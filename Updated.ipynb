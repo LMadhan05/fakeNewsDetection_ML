{
  "cells": [
    {
      "cell_type": "markdown",
      "id": "9b18e089-0df5-40af-b1e9-2e8a5644b19d",
      "metadata": {
        "id": "9b18e089-0df5-40af-b1e9-2e8a5644b19d"
      },
      "source": [
        "<font size =\"4\">**Importing all the libraries**</font>"
      ]
    },
    {
      "cell_type": "code",
      "execution_count": null,
      "id": "03274c15-c2e7-4f2d-8934-f55a566d1b05",
      "metadata": {
        "id": "03274c15-c2e7-4f2d-8934-f55a566d1b05",
        "outputId": "9f292780-4c54-443a-90b0-17cc551cc3a9"
      },
      "outputs": [
        {
          "name": "stderr",
          "output_type": "stream",
          "text": [
            "/opt/intel/inteloneapi/intelpython/latest/lib/python3.9/site-packages/scipy/__init__.py:146: UserWarning: A NumPy version >=1.16.5 and <1.23.0 is required for this version of SciPy (detected version 1.23.5\n",
            "  warnings.warn(f\"A NumPy version >={np_minversion} and <{np_maxversion}\"\n",
            "Intel(R) Extension for Scikit-learn* enabled (https://github.com/intel/scikit-learn-intelex)\n"
          ]
        }
      ],
      "source": [
        "from sklearnex import patch_sklearn\n",
        "patch_sklearn()"
      ]
    },
    {
      "cell_type": "code",
      "execution_count": null,
      "id": "2cd6f8d3-9ed7-4241-afc0-f277c177a2d7",
      "metadata": {
        "id": "2cd6f8d3-9ed7-4241-afc0-f277c177a2d7"
      },
      "outputs": [],
      "source": [
        "import pandas as pd\n",
        "import seaborn as sns\n",
        "import matplotlib.pyplot as plt\n",
        "from tqdm import tqdm\n",
        "import re\n",
        "import nltk\n",
        "import os\n",
        "\n",
        "\n",
        "from nltk.tokenize import word_tokenize\n",
        "from sklearn.model_selection import train_test_split\n",
        "from sklearn.metrics import accuracy_score\n",
        "from sklearn.linear_model import LogisticRegression\n",
        "from sklearn.metrics import classification_report\n",
        "from sklearn.ensemble import RandomForestClassifier\n",
        "from sklearn.naive_bayes import MultinomialNB\n",
        "from sklearn import neighbors , metrics , svm"
      ]
    },
    {
      "cell_type": "code",
      "execution_count": null,
      "id": "80311d62-b72f-4b93-818e-a7a703fd2ddf",
      "metadata": {
        "id": "80311d62-b72f-4b93-818e-a7a703fd2ddf",
        "outputId": "359a7921-5ea0-4992-e424-af518ca45a34"
      },
      "outputs": [
        {
          "name": "stderr",
          "output_type": "stream",
          "text": [
            "[nltk_data] Downloading package punkt to /home/u194149/nltk_data...\n",
            "[nltk_data]   Package punkt is already up-to-date!\n",
            "[nltk_data] Downloading package stopwords to\n",
            "[nltk_data]     /home/u194149/nltk_data...\n",
            "[nltk_data]   Package stopwords is already up-to-date!\n",
            "[nltk_data] Downloading package wordnet to /home/u194149/nltk_data...\n",
            "[nltk_data]   Package wordnet is already up-to-date!\n"
          ]
        },
        {
          "data": {
            "text/plain": [
              "True"
            ]
          },
          "execution_count": 3,
          "metadata": {},
          "output_type": "execute_result"
        }
      ],
      "source": [
        "nltk.download('punkt')\n",
        "nltk.download('stopwords')\n",
        "nltk.download('wordnet')"
      ]
    },
    {
      "cell_type": "markdown",
      "id": "fa79260e-499f-4c75-8738-dc7ccae00ece",
      "metadata": {
        "id": "fa79260e-499f-4c75-8738-dc7ccae00ece"
      },
      "source": [
        "<font size =\"4\">**Downloading the dataset and extracting it to the appropriate data directory.**</font>"
      ]
    },
    {
      "cell_type": "code",
      "execution_count": null,
      "id": "d5ea95d6-479f-4d44-b030-e01765f15bc3",
      "metadata": {
        "id": "d5ea95d6-479f-4d44-b030-e01765f15bc3"
      },
      "outputs": [],
      "source": [
        "data_directory = 'data/'\n",
        "if not os.path.exists(data_directory):\n",
        "    !mkdir data/\n",
        "    !wget https://onlineacademiccommunity.uvic.ca/isot/wp-content/uploads/sites/7295/2023/03/News-_dataset.zip --directory-prefix=data/\n",
        "    !unzip data/News-_dataset.zip -d data/"
      ]
    },
    {
      "cell_type": "markdown",
      "id": "399e8186-b94c-4f12-ae71-dd37341bb3ca",
      "metadata": {
        "id": "399e8186-b94c-4f12-ae71-dd37341bb3ca"
      },
      "source": [
        "<font size=\"4\">**Read the data csv file**</font>"
      ]
    },
    {
      "cell_type": "code",
      "execution_count": null,
      "id": "885fb660-a2c1-4cd8-b6d6-43bff7bab973",
      "metadata": {
        "id": "885fb660-a2c1-4cd8-b6d6-43bff7bab973"
      },
      "outputs": [],
      "source": [
        "fake_data = pd.read_csv('data/Fake.csv')\n",
        "# fake_data.head()"
      ]
    },
    {
      "cell_type": "code",
      "execution_count": null,
      "id": "cb2a7993-0634-48e6-9bdf-7316c5c2ea02",
      "metadata": {
        "id": "cb2a7993-0634-48e6-9bdf-7316c5c2ea02"
      },
      "outputs": [],
      "source": [
        "true_data = pd.read_csv('data/True.csv')\n",
        "# true_data.head()"
      ]
    },
    {
      "cell_type": "markdown",
      "id": "e63f9f67-ac53-46cc-abc8-0d14b048fb2a",
      "metadata": {
        "id": "e63f9f67-ac53-46cc-abc8-0d14b048fb2a"
      },
      "source": [
        "Assigning Classes to the Dataset"
      ]
    },
    {
      "cell_type": "code",
      "execution_count": null,
      "id": "13c6957f-797b-4fe2-8b2a-daa10f157765",
      "metadata": {
        "id": "13c6957f-797b-4fe2-8b2a-daa10f157765"
      },
      "outputs": [],
      "source": [
        "true_data[\"label\"] = 1\n",
        "fake_data[\"label\"] = 0"
      ]
    },
    {
      "cell_type": "markdown",
      "id": "5737d553-e902-4c2e-8e07-152bd39758b6",
      "metadata": {
        "id": "5737d553-e902-4c2e-8e07-152bd39758b6"
      },
      "source": [
        "Merging Both the Dataset"
      ]
    },
    {
      "cell_type": "code",
      "execution_count": null,
      "id": "c9fde258-6357-4c61-b65a-1511ef8d9f5f",
      "metadata": {
        "id": "c9fde258-6357-4c61-b65a-1511ef8d9f5f"
      },
      "outputs": [],
      "source": [
        "data = pd.concat([true_data, fake_data], axis=0)"
      ]
    },
    {
      "cell_type": "markdown",
      "id": "a43f1432-f622-4f55-814b-beba9d486fdb",
      "metadata": {
        "id": "a43f1432-f622-4f55-814b-beba9d486fdb"
      },
      "source": [
        "Visualization of the text data based on subject column"
      ]
    },
    {
      "cell_type": "code",
      "execution_count": null,
      "id": "934fe91d-e4ce-4a1d-b31f-1baf6d9a912c",
      "metadata": {
        "id": "934fe91d-e4ce-4a1d-b31f-1baf6d9a912c",
        "outputId": "3f445a80-4ac5-4470-d5f2-fd1c9e179188"
      },
      "outputs": [
        {
          "data": {
            "text/plain": [
              "[Text(0, 0, 'politicsNews'),\n",
              " Text(1, 0, 'worldnews'),\n",
              " Text(2, 0, 'News'),\n",
              " Text(3, 0, 'politics'),\n",
              " Text(4, 0, 'Government News'),\n",
              " Text(5, 0, 'left-news'),\n",
              " Text(6, 0, 'US_News'),\n",
              " Text(7, 0, 'Middle-east')]"
            ]
          },
          "execution_count": 9,
          "metadata": {},
          "output_type": "execute_result"
        },
        {
          "data": {
            "image/png": "[encoded data removed]",
            "text/plain": [
              "<Figure size 600x400 with 1 Axes>"
            ]
          },
          "metadata": {},
          "output_type": "display_data"
        }
      ],
      "source": [
        "plt.figure(figsize = (6,4))\n",
        "sns.set(style = \"whitegrid\",font_scale = 1.0)\n",
        "chart = sns.countplot(x = \"subject\", data = data)\n",
        "chart.set_xticklabels(chart.get_xticklabels(),rotation=90)"
      ]
    },
    {
      "cell_type": "markdown",
      "id": "8c238285-6127-49bd-a2a6-1500532fd0d5",
      "metadata": {
        "id": "8c238285-6127-49bd-a2a6-1500532fd0d5"
      },
      "source": [
        "<font size=\"4\">**Data preprocessing**</font>"
      ]
    },
    {
      "cell_type": "code",
      "execution_count": null,
      "id": "9d8ede7a-b883-4d8e-8f9b-94fba6206b98",
      "metadata": {
        "id": "9d8ede7a-b883-4d8e-8f9b-94fba6206b98"
      },
      "outputs": [],
      "source": [
        "data['text'] = data['title'] +' '+data['text']\n",
        "# Either you could data.drop[\"column names\"] or del data[\"column names\"]\n",
        "del data['title']\n",
        "del data['subject']\n",
        "del data['date']"
      ]
    },
    {
      "cell_type": "code",
      "execution_count": null,
      "id": "de9c8121-f290-4020-9fbf-7ee074fafbf9",
      "metadata": {
        "id": "de9c8121-f290-4020-9fbf-7ee074fafbf9",
        "outputId": "c72711cb-6c1d-4250-8b3f-1502ea2fb853"
      },
      "outputs": [
        {
          "data": {
            "text/html": [
              "<div>\n",
              "<style scoped>\n",
              "    .dataframe tbody tr th:only-of-type {\n",
              "        vertical-align: middle;\n",
              "    }\n",
              "\n",
              "    .dataframe tbody tr th {\n",
              "        vertical-align: top;\n",
              "    }\n",
              "\n",
              "    .dataframe thead th {\n",
              "        text-align: right;\n",
              "    }\n",
              "</style>\n",
              "<table border=\"1\" class=\"dataframe\">\n",
              "  <thead>\n",
              "    <tr style=\"text-align: right;\">\n",
              "      <th></th>\n",
              "      <th>text</th>\n",
              "      <th>label</th>\n",
              "    </tr>\n",
              "  </thead>\n",
              "  <tbody>\n",
              "    <tr>\n",
              "      <th>0</th>\n",
              "      <td>As U.S. budget fight looms, Republicans flip t...</td>\n",
              "      <td>1</td>\n",
              "    </tr>\n",
              "    <tr>\n",
              "      <th>1</th>\n",
              "      <td>U.S. military to accept transgender recruits o...</td>\n",
              "      <td>1</td>\n",
              "    </tr>\n",
              "    <tr>\n",
              "      <th>2</th>\n",
              "      <td>Senior U.S. Republican senator: 'Let Mr. Muell...</td>\n",
              "      <td>1</td>\n",
              "    </tr>\n",
              "    <tr>\n",
              "      <th>3</th>\n",
              "      <td>FBI Russia probe helped by Australian diplomat...</td>\n",
              "      <td>1</td>\n",
              "    </tr>\n",
              "    <tr>\n",
              "      <th>4</th>\n",
              "      <td>Trump wants Postal Service to charge 'much mor...</td>\n",
              "      <td>1</td>\n",
              "    </tr>\n",
              "  </tbody>\n",
              "</table>\n",
              "</div>"
            ],
            "text/plain": [
              "                                                text  label\n",
              "0  As U.S. budget fight looms, Republicans flip t...      1\n",
              "1  U.S. military to accept transgender recruits o...      1\n",
              "2  Senior U.S. Republican senator: 'Let Mr. Muell...      1\n",
              "3  FBI Russia probe helped by Australian diplomat...      1\n",
              "4  Trump wants Postal Service to charge 'much mor...      1"
            ]
          },
          "execution_count": 11,
          "metadata": {},
          "output_type": "execute_result"
        }
      ],
      "source": [
        "data.head()"
      ]
    },
    {
      "cell_type": "markdown",
      "id": "4652748f-4c28-43e0-ab74-68acb431d180",
      "metadata": {
        "id": "4652748f-4c28-43e0-ab74-68acb431d180"
      },
      "source": [
        "As the title, author column will not going to be helpful in identification of the news. So, we can drop these column."
      ]
    },
    {
      "cell_type": "code",
      "execution_count": null,
      "id": "4833cc13-bfbe-4447-b4b7-f4253170b193",
      "metadata": {
        "id": "4833cc13-bfbe-4447-b4b7-f4253170b193",
        "outputId": "cc6f0a4b-e128-48c4-ea17-4f57235464d7"
      },
      "outputs": [
        {
          "data": {
            "text/plain": [
              "(44898, 2)"
            ]
          },
          "execution_count": 12,
          "metadata": {},
          "output_type": "execute_result"
        }
      ],
      "source": [
        "data.shape"
      ]
    },
    {
      "cell_type": "markdown",
      "id": "74ed0eb9-3afb-43c5-b0a3-1a13dc63f239",
      "metadata": {
        "id": "74ed0eb9-3afb-43c5-b0a3-1a13dc63f239"
      },
      "source": [
        "Check if there is any null value (If so, then we will drop those rows)"
      ]
    },
    {
      "cell_type": "code",
      "execution_count": null,
      "id": "32e91398-a10c-4ce9-a0b8-f1331e6482fc",
      "metadata": {
        "id": "32e91398-a10c-4ce9-a0b8-f1331e6482fc",
        "outputId": "e4af0d06-75fa-45a0-a44d-6937962f917b"
      },
      "outputs": [
        {
          "data": {
            "text/plain": [
              "text     0\n",
              "label    0\n",
              "dtype: int64"
            ]
          },
          "execution_count": 13,
          "metadata": {},
          "output_type": "execute_result"
        }
      ],
      "source": [
        "data.isnull().sum() # get the count of missing/NULL values for each column. if present remove missing values"
      ]
    },
    {
      "cell_type": "markdown",
      "id": "fc7c10c8-bca7-4fdd-971e-ee2e9276ff1f",
      "metadata": {
        "id": "fc7c10c8-bca7-4fdd-971e-ee2e9276ff1f"
      },
      "source": [
        " Now we have to shuffle the dataset to prevent the model to get bias"
      ]
    },
    {
      "cell_type": "code",
      "execution_count": null,
      "id": "60329ea8-7192-4c8d-aab6-a89fd7215f8d",
      "metadata": {
        "id": "60329ea8-7192-4c8d-aab6-a89fd7215f8d",
        "outputId": "2ac365d0-5e32-48fc-b95e-2ce4e9a1c184"
      },
      "outputs": [
        {
          "data": {
            "text/html": [
              "<div>\n",
              "<style scoped>\n",
              "    .dataframe tbody tr th:only-of-type {\n",
              "        vertical-align: middle;\n",
              "    }\n",
              "\n",
              "    .dataframe tbody tr th {\n",
              "        vertical-align: top;\n",
              "    }\n",
              "\n",
              "    .dataframe thead th {\n",
              "        text-align: right;\n",
              "    }\n",
              "</style>\n",
              "<table border=\"1\" class=\"dataframe\">\n",
              "  <thead>\n",
              "    <tr style=\"text-align: right;\">\n",
              "      <th></th>\n",
              "      <th>text</th>\n",
              "      <th>label</th>\n",
              "    </tr>\n",
              "  </thead>\n",
              "  <tbody>\n",
              "    <tr>\n",
              "      <th>0</th>\n",
              "      <td>France says pressure needed to stop North Kore...</td>\n",
              "      <td>1</td>\n",
              "    </tr>\n",
              "    <tr>\n",
              "      <th>1</th>\n",
              "      <td>Moldovan president vetoes participation in NAT...</td>\n",
              "      <td>1</td>\n",
              "    </tr>\n",
              "    <tr>\n",
              "      <th>2</th>\n",
              "      <td>The Mindboggling Sexist And Racist Reasons Cl...</td>\n",
              "      <td>0</td>\n",
              "    </tr>\n",
              "    <tr>\n",
              "      <th>3</th>\n",
              "      <td>White House presses Congress on bill allowing ...</td>\n",
              "      <td>1</td>\n",
              "    </tr>\n",
              "    <tr>\n",
              "      <th>4</th>\n",
              "      <td>Trump says 'only one thing will work' with Nor...</td>\n",
              "      <td>1</td>\n",
              "    </tr>\n",
              "  </tbody>\n",
              "</table>\n",
              "</div>"
            ],
            "text/plain": [
              "                                                text  label\n",
              "0  France says pressure needed to stop North Kore...      1\n",
              "1  Moldovan president vetoes participation in NAT...      1\n",
              "2   The Mindboggling Sexist And Racist Reasons Cl...      0\n",
              "3  White House presses Congress on bill allowing ...      1\n",
              "4  Trump says 'only one thing will work' with Nor...      1"
            ]
          },
          "execution_count": 14,
          "metadata": {},
          "output_type": "execute_result"
        }
      ],
      "source": [
        "#Shuffling the data by sampling it randomly, then resetting the index and dropping the previous index column\n",
        "data = data.sample(frac=1).reset_index(drop=True)\n",
        "data.head()"
      ]
    },
    {
      "cell_type": "markdown",
      "id": "600d4362-f13e-4b89-a2be-8fd43a3e899f",
      "metadata": {
        "id": "600d4362-f13e-4b89-a2be-8fd43a3e899f"
      },
      "source": [
        "Now Let’s explore the unique values in the each category using below code."
      ]
    },
    {
      "cell_type": "code",
      "execution_count": null,
      "id": "0d61e19e-af3b-4bd7-899a-42ad1a711df7",
      "metadata": {
        "id": "0d61e19e-af3b-4bd7-899a-42ad1a711df7",
        "outputId": "deb547ca-6142-4d30-d415-5471a687acbc"
      },
      "outputs": [
        {
          "data": {
            "text/plain": [
              "<Axes: xlabel='label', ylabel='count'>"
            ]
          },
          "execution_count": 15,
          "metadata": {},
          "output_type": "execute_result"
        },
        {
          "data": {
            "image/png": "[encoded data removed]",
            "text/plain": [
              "<Figure size 640x480 with 1 Axes>"
            ]
          },
          "metadata": {},
          "output_type": "display_data"
        }
      ],
      "source": [
        "sns.countplot(data=data,\n",
        "              x='label',\n",
        "              order=data['label'].value_counts().index)"
      ]
    },
    {
      "cell_type": "markdown",
      "id": "9663eb04-37cd-49fd-bfd2-997dad697a3e",
      "metadata": {
        "id": "9663eb04-37cd-49fd-bfd2-997dad697a3e"
      },
      "source": [
        "<font size=\"4\">**Data Cleaning**</font>"
      ]
    },
    {
      "cell_type": "markdown",
      "id": "945c6dd0-a316-4c47-92bc-2339505de433",
      "metadata": {
        "id": "945c6dd0-a316-4c47-92bc-2339505de433"
      },
      "source": [
        "     Once we have all the required modules, we can create a function name preprocess text. This function will preprocess all the data given as   input."
      ]
    },
    {
      "cell_type": "markdown",
      "id": "50a71d11-b357-44fb-9008-60c905d65b8f",
      "metadata": {
        "id": "50a71d11-b357-44fb-9008-60c905d65b8f"
      },
      "source": [
        "\n",
        "**Tokenization**\n",
        "      \n",
        "      1.We use the method of word_tokenize() to split sentence into words.\n",
        "      2.Is helpful to convert the text:string into numeric values to train the model\n",
        "      \n",
        "**Stemming**\n",
        "      \n",
        "      1.We use to remove the same meaning word from the text(dataset)\n",
        "      \n",
        "      2.Example\n",
        "        if we have ['dance' , 'dancing' , 'danced'] = words\n",
        "        by using the stemming process words --> stemming process -> output : ['dance' , 'dance' , 'dance']\n",
        "        stemming process will cut down the suffix of the word\n",
        "\n",
        "**Lemmatization**\n",
        "      \n",
        "      1.Instead of using the Stemming we can also use the lemmatization which provide the better performance output\n",
        "      and it also perform based on  morphological analysis\n",
        "      \n",
        "      2.Example ['Alice' , 'Studies' , 'Studying'] --> lemmatizer process -> output : ['Alice' , 'Studies' , 'Study']\n"
      ]
    },
    {
      "cell_type": "code",
      "execution_count": null,
      "id": "c52f9ae4-fc39-4d96-81e3-6f1c836be0e7",
      "metadata": {
        "id": "c52f9ae4-fc39-4d96-81e3-6f1c836be0e7"
      },
      "outputs": [],
      "source": [
        "from nltk.stem import WordNetLemmatizer\n",
        "from nltk.tokenize import word_tokenize\n",
        "from nltk.corpus import stopwords\n",
        "import string\n",
        "\n",
        "def preprocess_text(text):\n",
        "\n",
        "    text = text.lower()\n",
        "\n",
        "\n",
        "    lemmatizer = WordNetLemmatizer()\n",
        "    text = word_tokenize(text)\n",
        "\n",
        "    for i in text:\n",
        "        lemmatizer.lemmatize(i)\n",
        "\n",
        "    stopword = set(stopwords.words('english'))\n",
        "    stopword.update(list(string.punctuation))\n",
        "    stopword.update(['\"'])\n",
        "\n",
        "    word = str()\n",
        "    for i in text:\n",
        "        if i not in stopword:\n",
        "            word += i\n",
        "            word += \" \"\n",
        "\n",
        "\n",
        "\n",
        "\n",
        "    return word\n",
        "\n",
        "data['text'] = data['text'].apply(preprocess_text)"
      ]
    },
    {
      "cell_type": "markdown",
      "id": "57b30dbe-9ad1-425b-a27c-a222616a8b28",
      "metadata": {
        "id": "57b30dbe-9ad1-425b-a27c-a222616a8b28"
      },
      "source": [
        "<font size=\"4\">**Converting text into Vectors**</font>"
      ]
    },
    {
      "cell_type": "markdown",
      "id": "b54e21eb-6021-426d-b675-8e960419df08",
      "metadata": {
        "id": "b54e21eb-6021-426d-b675-8e960419df08"
      },
      "source": [
        "**CountVectorizer**\n",
        "            \n",
        "     Is a text vectorization method provided by the scikit-learn library in Python. It is a simple and commonly used technique that converts a collection of text documents into a matrix of token counts."
      ]
    },
    {
      "cell_type": "code",
      "execution_count": null,
      "id": "d2517d2c-65d0-4cd3-a382-7e51115d6990",
      "metadata": {
        "id": "d2517d2c-65d0-4cd3-a382-7e51115d6990"
      },
      "outputs": [],
      "source": [
        "#TODO: explore different vectorization available with sklearn.feature_extraction.text\n",
        "from sklearn.feature_extraction.text import CountVectorizer\n",
        "import numpy as np\n",
        "\n",
        "x , y = data['text'] , data['label']\n",
        "\n",
        "vector = CountVectorizer()\n",
        "x = vector.fit_transform(x)\n"
      ]
    },
    {
      "cell_type": "markdown",
      "id": "3c9fbaba-3611-471b-862a-4c00d8b08dc0",
      "metadata": {
        "id": "3c9fbaba-3611-471b-862a-4c00d8b08dc0"
      },
      "source": [
        "<font size=\"4\">**Spliting the data for the model**</font>"
      ]
    },
    {
      "cell_type": "markdown",
      "id": "11083e3b-f1a7-4d99-828e-e10d562433ac",
      "metadata": {
        "id": "11083e3b-f1a7-4d99-828e-e10d562433ac"
      },
      "source": [
        "**train_test_split**\n",
        "\n",
        "    function is used to separate the (x,y) : dependent and independent values to train and test data in which the train variable are used to train the dataset and test datasets are used to test and find the prediction of model"
      ]
    },
    {
      "cell_type": "code",
      "execution_count": null,
      "id": "febd0c96-9e35-4d57-9eb8-926e9c545f4e",
      "metadata": {
        "id": "febd0c96-9e35-4d57-9eb8-926e9c545f4e"
      },
      "outputs": [],
      "source": [
        "x_train , x_test , y_train , y_test = train_test_split(x , y, test_size = 0.4)"
      ]
    },
    {
      "cell_type": "markdown",
      "id": "4bedd2b5-bc10-44f2-a254-7240d97998b6",
      "metadata": {
        "id": "4bedd2b5-bc10-44f2-a254-7240d97998b6"
      },
      "source": [
        "<font size=\"4\">**Model training, Evaluation, and Prediction**</font>"
      ]
    },
    {
      "cell_type": "markdown",
      "id": "b91fd223-5b58-4e56-abc0-fa0b5c6a44ab",
      "metadata": {
        "id": "b91fd223-5b58-4e56-abc0-fa0b5c6a44ab"
      },
      "source": [
        "<font size = 4>**Logistic Regression Model**<font>"
      ]
    },
    {
      "cell_type": "markdown",
      "id": "1a580833-371a-4c91-a5c5-bbc767031793",
      "metadata": {
        "id": "1a580833-371a-4c91-a5c5-bbc767031793"
      },
      "source": [
        "      About Logistic Regression Model\n",
        "              Logistic regression is a supervised learning classification algorithm used to predict the probability of a target variable. The nature of target or dependent variable is dichotomous, which means there would be only two possible classes.\n",
        "              \n",
        "               It’s an S-shaped curve that can take any real-valued number and map it into a value between 0 and 1, but never exactly at those limits.\n",
        "                                                          1 / (1 + e^-value)"
      ]
    },
    {
      "cell_type": "code",
      "execution_count": null,
      "id": "10695133-29fa-48dd-bcab-72ebe1c4047e",
      "metadata": {
        "id": "10695133-29fa-48dd-bcab-72ebe1c4047e",
        "outputId": "63fab375-751f-493b-df8d-13fd478540cd"
      },
      "outputs": [
        {
          "data": {
            "text/html": [
              "<style>#sk-container-id-1 {color: black;background-color: white;}#sk-container-id-1 pre{padding: 0;}#sk-container-id-1 div.sk-toggleable {background-color: white;}#sk-container-id-1 label.sk-toggleable__label {cursor: pointer;display: block;width: 100%;margin-bottom: 0;padding: 0.3em;box-sizing: border-box;text-align: center;}#sk-container-id-1 label.sk-toggleable__label-arrow:before {content: \"▸\";float: left;margin-right: 0.25em;color: #696969;}#sk-container-id-1 label.sk-toggleable__label-arrow:hover:before {color: black;}#sk-container-id-1 div.sk-estimator:hover label.sk-toggleable__label-arrow:before {color: black;}#sk-container-id-1 div.sk-toggleable__content {max-height: 0;max-width: 0;overflow: hidden;text-align: left;background-color: #f0f8ff;}#sk-container-id-1 div.sk-toggleable__content pre {margin: 0.2em;color: black;border-radius: 0.25em;background-color: #f0f8ff;}#sk-container-id-1 input.sk-toggleable__control:checked~div.sk-toggleable__content {max-height: 200px;max-width: 100%;overflow: auto;}#sk-container-id-1 input.sk-toggleable__control:checked~label.sk-toggleable__label-arrow:before {content: \"▾\";}#sk-container-id-1 div.sk-estimator input.sk-toggleable__control:checked~label.sk-toggleable__label {background-color: #d4ebff;}#sk-container-id-1 div.sk-label input.sk-toggleable__control:checked~label.sk-toggleable__label {background-color: #d4ebff;}#sk-container-id-1 input.sk-hidden--visually {border: 0;clip: rect(1px 1px 1px 1px);clip: rect(1px, 1px, 1px, 1px);height: 1px;margin: -1px;overflow: hidden;padding: 0;position: absolute;width: 1px;}#sk-container-id-1 div.sk-estimator {font-family: monospace;background-color: #f0f8ff;border: 1px dotted black;border-radius: 0.25em;box-sizing: border-box;margin-bottom: 0.5em;}#sk-container-id-1 div.sk-estimator:hover {background-color: #d4ebff;}#sk-container-id-1 div.sk-parallel-item::after {content: \"\";width: 100%;border-bottom: 1px solid gray;flex-grow: 1;}#sk-container-id-1 div.sk-label:hover label.sk-toggleable__label {background-color: #d4ebff;}#sk-container-id-1 div.sk-serial::before {content: \"\";position: absolute;border-left: 1px solid gray;box-sizing: border-box;top: 0;bottom: 0;left: 50%;z-index: 0;}#sk-container-id-1 div.sk-serial {display: flex;flex-direction: column;align-items: center;background-color: white;padding-right: 0.2em;padding-left: 0.2em;position: relative;}#sk-container-id-1 div.sk-item {position: relative;z-index: 1;}#sk-container-id-1 div.sk-parallel {display: flex;align-items: stretch;justify-content: center;background-color: white;position: relative;}#sk-container-id-1 div.sk-item::before, #sk-container-id-1 div.sk-parallel-item::before {content: \"\";position: absolute;border-left: 1px solid gray;box-sizing: border-box;top: 0;bottom: 0;left: 50%;z-index: -1;}#sk-container-id-1 div.sk-parallel-item {display: flex;flex-direction: column;z-index: 1;position: relative;background-color: white;}#sk-container-id-1 div.sk-parallel-item:first-child::after {align-self: flex-end;width: 50%;}#sk-container-id-1 div.sk-parallel-item:last-child::after {align-self: flex-start;width: 50%;}#sk-container-id-1 div.sk-parallel-item:only-child::after {width: 0;}#sk-container-id-1 div.sk-dashed-wrapped {border: 1px dashed gray;margin: 0 0.4em 0.5em 0.4em;box-sizing: border-box;padding-bottom: 0.4em;background-color: white;}#sk-container-id-1 div.sk-label label {font-family: monospace;font-weight: bold;display: inline-block;line-height: 1.2em;}#sk-container-id-1 div.sk-label-container {text-align: center;}#sk-container-id-1 div.sk-container {/* jupyter's `normalize.less` sets `[hidden] { display: none; }` but bootstrap.min.css set `[hidden] { display: none !important; }` so we also need the `!important` here to be able to override the default hidden behavior on the sphinx rendered scikit-learn.org. See: https://github.com/scikit-learn/scikit-learn/issues/21755 */display: inline-block !important;position: relative;}#sk-container-id-1 div.sk-text-repr-fallback {display: none;}</style><div id=\"sk-container-id-1\" class=\"sk-top-container\"><div class=\"sk-text-repr-fallback\"><pre>LogisticRegression(max_iter=200)</pre><b>In a Jupyter environment, please rerun this cell to show the HTML representation or trust the notebook. <br />On GitHub, the HTML representation is unable to render, please try loading this page with nbviewer.org.</b></div><div class=\"sk-container\" hidden><div class=\"sk-item\"><div class=\"sk-estimator sk-toggleable\"><input class=\"sk-toggleable__control sk-hidden--visually\" id=\"sk-estimator-id-1\" type=\"checkbox\" checked><label for=\"sk-estimator-id-1\" class=\"sk-toggleable__label sk-toggleable__label-arrow\">LogisticRegression</label><div class=\"sk-toggleable__content\"><pre>LogisticRegression(max_iter=200)</pre></div></div></div></div></div>"
            ],
            "text/plain": [
              "LogisticRegression(max_iter=200)"
            ]
          },
          "execution_count": 19,
          "metadata": {},
          "output_type": "execute_result"
        }
      ],
      "source": [
        "LR = LogisticRegression(max_iter = 200)\n",
        "LR.fit(x_train , y_train)"
      ]
    },
    {
      "cell_type": "code",
      "execution_count": null,
      "id": "32b58822-a1c8-40c3-9ce4-d844b762cbf8",
      "metadata": {
        "id": "32b58822-a1c8-40c3-9ce4-d844b762cbf8",
        "outputId": "13dcd697-bf2c-4162-8fba-ad0fe91a6d05"
      },
      "outputs": [
        {
          "name": "stdout",
          "output_type": "stream",
          "text": [
            "The Accuracy Score of the LogisticRegression 1.00 % out of 1.0"
          ]
        }
      ],
      "source": [
        "scoreLogisticRegression = accuracy_score(LR.predict(x_test) , y_test)\n",
        "print(\"The Accuracy Score of the LogisticRegression %.2f \" % scoreLogisticRegression,end = \"% out of 1.0\")"
      ]
    },
    {
      "cell_type": "code",
      "execution_count": null,
      "id": "92dc6783-aed1-45bd-88de-072068933f4d",
      "metadata": {
        "id": "92dc6783-aed1-45bd-88de-072068933f4d",
        "outputId": "38db1f71-d8a0-40fb-f0e3-67ede3790932"
      },
      "outputs": [
        {
          "name": "stdout",
          "output_type": "stream",
          "text": [
            "              precision    recall  f1-score   support\n",
            "\n",
            "           0       1.00      1.00      1.00      9385\n",
            "           1       0.99      1.00      1.00      8575\n",
            "\n",
            "    accuracy                           1.00     17960\n",
            "   macro avg       1.00      1.00      1.00     17960\n",
            "weighted avg       1.00      1.00      1.00     17960\n",
            "\n"
          ]
        }
      ],
      "source": [
        "print(classification_report(y_test , LR.predict(x_test)))"
      ]
    },
    {
      "cell_type": "code",
      "execution_count": null,
      "id": "8f627e70-f760-4672-97db-47430835a706",
      "metadata": {
        "id": "8f627e70-f760-4672-97db-47430835a706"
      },
      "outputs": [],
      "source": [
        "from sklearn.metrics import confusion_matrix"
      ]
    },
    {
      "cell_type": "code",
      "execution_count": null,
      "id": "70d83a80-885f-4662-b0a9-9319cb180726",
      "metadata": {
        "id": "70d83a80-885f-4662-b0a9-9319cb180726",
        "outputId": "0197d6bd-0924-4256-97ff-f3e8c28239d4"
      },
      "outputs": [
        {
          "name": "stdout",
          "output_type": "stream",
          "text": [
            "[[9341.   44.]\n",
            " [  20. 8555.]]\n"
          ]
        }
      ],
      "source": [
        "dtc_pred = (LR.predict(x_test) > 0.5).astype(int)\n",
        "\n",
        "num_classes = 2\n",
        "confusion_matrixLR = np.zeros((num_classes, num_classes))\n",
        "\n",
        "for true, predict in zip(y_test, LR.predict(x_test)):\n",
        "    confusion_matrixLR[true][predict] += 1\n",
        "\n",
        "print(confusion_matrixLR)"
      ]
    },
    {
      "cell_type": "markdown",
      "id": "88f18b2e-5829-4581-86d6-f3cf565e8b26",
      "metadata": {
        "id": "88f18b2e-5829-4581-86d6-f3cf565e8b26"
      },
      "source": [
        "<font size = 4>**Random Forest Algorithm**<font>"
      ]
    },
    {
      "cell_type": "code",
      "source": [
        "Random Forest is one of the most popular and commonly used algorithms by Data Scientists. Random forest is a Supervised Machine Learning Algorithm that is used widely in Classification and Regression problems. It builds decision trees on different samples and takes their majority vote for classification and average in case of regression. The greater number of trees in the forest leads to higher accuracy and prevents the problem of overfitting."
      ],
      "metadata": {
        "id": "_grTVmCwFd5C"
      },
      "id": "_grTVmCwFd5C",
      "execution_count": null,
      "outputs": []
    },
    {
      "cell_type": "code",
      "execution_count": null,
      "id": "7f010635-6734-4e52-be7b-393ee77554e3",
      "metadata": {
        "id": "7f010635-6734-4e52-be7b-393ee77554e3",
        "outputId": "0897a40e-2f2b-4aab-f745-2d74284329b8"
      },
      "outputs": [
        {
          "data": {
            "text/html": [
              "<style>#sk-container-id-2 {color: black;background-color: white;}#sk-container-id-2 pre{padding: 0;}#sk-container-id-2 div.sk-toggleable {background-color: white;}#sk-container-id-2 label.sk-toggleable__label {cursor: pointer;display: block;width: 100%;margin-bottom: 0;padding: 0.3em;box-sizing: border-box;text-align: center;}#sk-container-id-2 label.sk-toggleable__label-arrow:before {content: \"▸\";float: left;margin-right: 0.25em;color: #696969;}#sk-container-id-2 label.sk-toggleable__label-arrow:hover:before {color: black;}#sk-container-id-2 div.sk-estimator:hover label.sk-toggleable__label-arrow:before {color: black;}#sk-container-id-2 div.sk-toggleable__content {max-height: 0;max-width: 0;overflow: hidden;text-align: left;background-color: #f0f8ff;}#sk-container-id-2 div.sk-toggleable__content pre {margin: 0.2em;color: black;border-radius: 0.25em;background-color: #f0f8ff;}#sk-container-id-2 input.sk-toggleable__control:checked~div.sk-toggleable__content {max-height: 200px;max-width: 100%;overflow: auto;}#sk-container-id-2 input.sk-toggleable__control:checked~label.sk-toggleable__label-arrow:before {content: \"▾\";}#sk-container-id-2 div.sk-estimator input.sk-toggleable__control:checked~label.sk-toggleable__label {background-color: #d4ebff;}#sk-container-id-2 div.sk-label input.sk-toggleable__control:checked~label.sk-toggleable__label {background-color: #d4ebff;}#sk-container-id-2 input.sk-hidden--visually {border: 0;clip: rect(1px 1px 1px 1px);clip: rect(1px, 1px, 1px, 1px);height: 1px;margin: -1px;overflow: hidden;padding: 0;position: absolute;width: 1px;}#sk-container-id-2 div.sk-estimator {font-family: monospace;background-color: #f0f8ff;border: 1px dotted black;border-radius: 0.25em;box-sizing: border-box;margin-bottom: 0.5em;}#sk-container-id-2 div.sk-estimator:hover {background-color: #d4ebff;}#sk-container-id-2 div.sk-parallel-item::after {content: \"\";width: 100%;border-bottom: 1px solid gray;flex-grow: 1;}#sk-container-id-2 div.sk-label:hover label.sk-toggleable__label {background-color: #d4ebff;}#sk-container-id-2 div.sk-serial::before {content: \"\";position: absolute;border-left: 1px solid gray;box-sizing: border-box;top: 0;bottom: 0;left: 50%;z-index: 0;}#sk-container-id-2 div.sk-serial {display: flex;flex-direction: column;align-items: center;background-color: white;padding-right: 0.2em;padding-left: 0.2em;position: relative;}#sk-container-id-2 div.sk-item {position: relative;z-index: 1;}#sk-container-id-2 div.sk-parallel {display: flex;align-items: stretch;justify-content: center;background-color: white;position: relative;}#sk-container-id-2 div.sk-item::before, #sk-container-id-2 div.sk-parallel-item::before {content: \"\";position: absolute;border-left: 1px solid gray;box-sizing: border-box;top: 0;bottom: 0;left: 50%;z-index: -1;}#sk-container-id-2 div.sk-parallel-item {display: flex;flex-direction: column;z-index: 1;position: relative;background-color: white;}#sk-container-id-2 div.sk-parallel-item:first-child::after {align-self: flex-end;width: 50%;}#sk-container-id-2 div.sk-parallel-item:last-child::after {align-self: flex-start;width: 50%;}#sk-container-id-2 div.sk-parallel-item:only-child::after {width: 0;}#sk-container-id-2 div.sk-dashed-wrapped {border: 1px dashed gray;margin: 0 0.4em 0.5em 0.4em;box-sizing: border-box;padding-bottom: 0.4em;background-color: white;}#sk-container-id-2 div.sk-label label {font-family: monospace;font-weight: bold;display: inline-block;line-height: 1.2em;}#sk-container-id-2 div.sk-label-container {text-align: center;}#sk-container-id-2 div.sk-container {/* jupyter's `normalize.less` sets `[hidden] { display: none; }` but bootstrap.min.css set `[hidden] { display: none !important; }` so we also need the `!important` here to be able to override the default hidden behavior on the sphinx rendered scikit-learn.org. See: https://github.com/scikit-learn/scikit-learn/issues/21755 */display: inline-block !important;position: relative;}#sk-container-id-2 div.sk-text-repr-fallback {display: none;}</style><div id=\"sk-container-id-2\" class=\"sk-top-container\"><div class=\"sk-text-repr-fallback\"><pre>RandomForestClassifier(max_depth=8, min_samples_split=10, random_state=5)</pre><b>In a Jupyter environment, please rerun this cell to show the HTML representation or trust the notebook. <br />On GitHub, the HTML representation is unable to render, please try loading this page with nbviewer.org.</b></div><div class=\"sk-container\" hidden><div class=\"sk-item\"><div class=\"sk-estimator sk-toggleable\"><input class=\"sk-toggleable__control sk-hidden--visually\" id=\"sk-estimator-id-2\" type=\"checkbox\" checked><label for=\"sk-estimator-id-2\" class=\"sk-toggleable__label sk-toggleable__label-arrow\">RandomForestClassifier</label><div class=\"sk-toggleable__content\"><pre>RandomForestClassifier(max_depth=8, min_samples_split=10, random_state=5)</pre></div></div></div></div></div>"
            ],
            "text/plain": [
              "RandomForestClassifier(max_depth=8, min_samples_split=10, random_state=5)"
            ]
          },
          "execution_count": 24,
          "metadata": {},
          "output_type": "execute_result"
        }
      ],
      "source": [
        "RF = RandomForestClassifier(criterion = 'gini' , max_depth = 8 , min_samples_split = 10 , random_state = 5)\n",
        "RF.fit(x_train , y_train)"
      ]
    },
    {
      "cell_type": "code",
      "execution_count": null,
      "id": "6a856cda-0f5f-49fb-bcdc-10c004d56b79",
      "metadata": {
        "id": "6a856cda-0f5f-49fb-bcdc-10c004d56b79",
        "outputId": "528e7bd6-239e-47ce-9eff-4d951fe43adc"
      },
      "outputs": [
        {
          "name": "stdout",
          "output_type": "stream",
          "text": [
            "The Accuracy Score of the Random Forest 0.97 % out of 1.0"
          ]
        }
      ],
      "source": [
        "scoreRandomForest = accuracy_score(RF.predict(x_test) , y_test)\n",
        "print(\"The Accuracy Score of the Random Forest %.2f \" % scoreRandomForest,end = \"% out of 1.0\")"
      ]
    },
    {
      "cell_type": "code",
      "execution_count": null,
      "id": "92fc2077-58b9-40a4-985f-6d6f3e09dd35",
      "metadata": {
        "id": "92fc2077-58b9-40a4-985f-6d6f3e09dd35",
        "outputId": "9f7b5efd-71d6-4c90-84d4-507b4aae3e03"
      },
      "outputs": [
        {
          "name": "stdout",
          "output_type": "stream",
          "text": [
            "              precision    recall  f1-score   support\n",
            "\n",
            "           0       0.96      0.98      0.97      9385\n",
            "           1       0.98      0.96      0.97      8575\n",
            "\n",
            "    accuracy                           0.97     17960\n",
            "   macro avg       0.97      0.97      0.97     17960\n",
            "weighted avg       0.97      0.97      0.97     17960\n",
            "\n"
          ]
        }
      ],
      "source": [
        "print(classification_report(y_test , RF.predict(x_test)))"
      ]
    },
    {
      "cell_type": "code",
      "execution_count": null,
      "id": "9a986eff-1624-4910-bf32-0727b482245f",
      "metadata": {
        "id": "9a986eff-1624-4910-bf32-0727b482245f",
        "outputId": "2ad410e7-dcaa-4e65-987f-14b36e1d3a69"
      },
      "outputs": [
        {
          "name": "stdout",
          "output_type": "stream",
          "text": [
            "[[9193.  192.]\n",
            " [ 363. 8212.]]\n"
          ]
        }
      ],
      "source": [
        "dtc_pred = (RF.predict(x_test) > 0.5).astype(int)\n",
        "\n",
        "num_classes = 2\n",
        "confusion_matrixRF = np.zeros((num_classes, num_classes))\n",
        "\n",
        "for true, predict in zip(y_test, RF.predict(x_test)):\n",
        "    confusion_matrixRF[true][predict] += 1\n",
        "\n",
        "print(confusion_matrixRF)"
      ]
    },
    {
      "cell_type": "markdown",
      "id": "1e12aa3a-e7a4-4a6e-b893-7f53775fdbfa",
      "metadata": {
        "id": "1e12aa3a-e7a4-4a6e-b893-7f53775fdbfa"
      },
      "source": [
        "<font size = 4>**Navie Bayes Algorithm**<font>"
      ]
    },
    {
      "cell_type": "code",
      "source": [
        "Naive Bayes classifiers are a collection of classification algorithms based on Bayes’ Theorem. It is not a single algorithm but a family of algorithms where all of them share a common principle, i.e. every pair of features being classified is independent of each other.\n",
        "\n",
        "The Naïve Bayes algorithm is comprised of two words Naïve and Bayes, Which can be described as:\n",
        "* Naïve: It is called Naïve because it assumes that the occurrence of a certain feature is independent of the occurrence of other features.\n",
        "* Bayes: It is called Bayes because it depends on the principle of Bayes' Theorem.\n",
        "                        P(A|B) = P(B|A) * P(A) / P(B)\n",
        "Where,\n",
        "* P(A|B) is Posterior probability: Probability of hypothesis A on the observed event B.\n",
        "* P(B|A) is Likelihood probability: Probability of the evidence given that the probability of a hypothesis is true.\n",
        "* P(A) is Prior Probability: Probability of hypothesis before observing the evidence.\n",
        "* P(B) is Marginal Probability: Probability of Evidence."
      ],
      "metadata": {
        "id": "5aYiBQhREKbS"
      },
      "id": "5aYiBQhREKbS",
      "execution_count": null,
      "outputs": []
    },
    {
      "cell_type": "code",
      "execution_count": null,
      "id": "f0f1a5b4-4b09-494f-b4b4-2edd190108de",
      "metadata": {
        "id": "f0f1a5b4-4b09-494f-b4b4-2edd190108de",
        "outputId": "4341d634-d884-4172-f9f0-5947b01f3c09"
      },
      "outputs": [
        {
          "data": {
            "text/html": [
              "<style>#sk-container-id-3 {color: black;background-color: white;}#sk-container-id-3 pre{padding: 0;}#sk-container-id-3 div.sk-toggleable {background-color: white;}#sk-container-id-3 label.sk-toggleable__label {cursor: pointer;display: block;width: 100%;margin-bottom: 0;padding: 0.3em;box-sizing: border-box;text-align: center;}#sk-container-id-3 label.sk-toggleable__label-arrow:before {content: \"▸\";float: left;margin-right: 0.25em;color: #696969;}#sk-container-id-3 label.sk-toggleable__label-arrow:hover:before {color: black;}#sk-container-id-3 div.sk-estimator:hover label.sk-toggleable__label-arrow:before {color: black;}#sk-container-id-3 div.sk-toggleable__content {max-height: 0;max-width: 0;overflow: hidden;text-align: left;background-color: #f0f8ff;}#sk-container-id-3 div.sk-toggleable__content pre {margin: 0.2em;color: black;border-radius: 0.25em;background-color: #f0f8ff;}#sk-container-id-3 input.sk-toggleable__control:checked~div.sk-toggleable__content {max-height: 200px;max-width: 100%;overflow: auto;}#sk-container-id-3 input.sk-toggleable__control:checked~label.sk-toggleable__label-arrow:before {content: \"▾\";}#sk-container-id-3 div.sk-estimator input.sk-toggleable__control:checked~label.sk-toggleable__label {background-color: #d4ebff;}#sk-container-id-3 div.sk-label input.sk-toggleable__control:checked~label.sk-toggleable__label {background-color: #d4ebff;}#sk-container-id-3 input.sk-hidden--visually {border: 0;clip: rect(1px 1px 1px 1px);clip: rect(1px, 1px, 1px, 1px);height: 1px;margin: -1px;overflow: hidden;padding: 0;position: absolute;width: 1px;}#sk-container-id-3 div.sk-estimator {font-family: monospace;background-color: #f0f8ff;border: 1px dotted black;border-radius: 0.25em;box-sizing: border-box;margin-bottom: 0.5em;}#sk-container-id-3 div.sk-estimator:hover {background-color: #d4ebff;}#sk-container-id-3 div.sk-parallel-item::after {content: \"\";width: 100%;border-bottom: 1px solid gray;flex-grow: 1;}#sk-container-id-3 div.sk-label:hover label.sk-toggleable__label {background-color: #d4ebff;}#sk-container-id-3 div.sk-serial::before {content: \"\";position: absolute;border-left: 1px solid gray;box-sizing: border-box;top: 0;bottom: 0;left: 50%;z-index: 0;}#sk-container-id-3 div.sk-serial {display: flex;flex-direction: column;align-items: center;background-color: white;padding-right: 0.2em;padding-left: 0.2em;position: relative;}#sk-container-id-3 div.sk-item {position: relative;z-index: 1;}#sk-container-id-3 div.sk-parallel {display: flex;align-items: stretch;justify-content: center;background-color: white;position: relative;}#sk-container-id-3 div.sk-item::before, #sk-container-id-3 div.sk-parallel-item::before {content: \"\";position: absolute;border-left: 1px solid gray;box-sizing: border-box;top: 0;bottom: 0;left: 50%;z-index: -1;}#sk-container-id-3 div.sk-parallel-item {display: flex;flex-direction: column;z-index: 1;position: relative;background-color: white;}#sk-container-id-3 div.sk-parallel-item:first-child::after {align-self: flex-end;width: 50%;}#sk-container-id-3 div.sk-parallel-item:last-child::after {align-self: flex-start;width: 50%;}#sk-container-id-3 div.sk-parallel-item:only-child::after {width: 0;}#sk-container-id-3 div.sk-dashed-wrapped {border: 1px dashed gray;margin: 0 0.4em 0.5em 0.4em;box-sizing: border-box;padding-bottom: 0.4em;background-color: white;}#sk-container-id-3 div.sk-label label {font-family: monospace;font-weight: bold;display: inline-block;line-height: 1.2em;}#sk-container-id-3 div.sk-label-container {text-align: center;}#sk-container-id-3 div.sk-container {/* jupyter's `normalize.less` sets `[hidden] { display: none; }` but bootstrap.min.css set `[hidden] { display: none !important; }` so we also need the `!important` here to be able to override the default hidden behavior on the sphinx rendered scikit-learn.org. See: https://github.com/scikit-learn/scikit-learn/issues/21755 */display: inline-block !important;position: relative;}#sk-container-id-3 div.sk-text-repr-fallback {display: none;}</style><div id=\"sk-container-id-3\" class=\"sk-top-container\"><div class=\"sk-text-repr-fallback\"><pre>MultinomialNB()</pre><b>In a Jupyter environment, please rerun this cell to show the HTML representation or trust the notebook. <br />On GitHub, the HTML representation is unable to render, please try loading this page with nbviewer.org.</b></div><div class=\"sk-container\" hidden><div class=\"sk-item\"><div class=\"sk-estimator sk-toggleable\"><input class=\"sk-toggleable__control sk-hidden--visually\" id=\"sk-estimator-id-3\" type=\"checkbox\" checked><label for=\"sk-estimator-id-3\" class=\"sk-toggleable__label sk-toggleable__label-arrow\">MultinomialNB</label><div class=\"sk-toggleable__content\"><pre>MultinomialNB()</pre></div></div></div></div></div>"
            ],
            "text/plain": [
              "MultinomialNB()"
            ]
          },
          "execution_count": 28,
          "metadata": {},
          "output_type": "execute_result"
        }
      ],
      "source": [
        "NF = MultinomialNB()\n",
        "NF.fit(x_train , y_train)"
      ]
    },
    {
      "cell_type": "code",
      "execution_count": null,
      "id": "6847d03d-2a7c-4f78-b469-cf91d035a815",
      "metadata": {
        "id": "6847d03d-2a7c-4f78-b469-cf91d035a815",
        "outputId": "67b0f8ba-d928-4436-dc90-18697495f085"
      },
      "outputs": [
        {
          "name": "stdout",
          "output_type": "stream",
          "text": [
            "The Accuracy Score of the Navie Bayes 0.96 % out of 1.0"
          ]
        }
      ],
      "source": [
        "scoreNavieBayes = accuracy_score(NF.predict(x_test) , y_test)\n",
        "print(\"The Accuracy Score of the Navie Bayes %.2f \" % scoreNavieBayes,end = \"% out of 1.0\")"
      ]
    },
    {
      "cell_type": "code",
      "execution_count": null,
      "id": "2e3b5b9d-ca3e-4388-b8f7-8fe39838f8c0",
      "metadata": {
        "id": "2e3b5b9d-ca3e-4388-b8f7-8fe39838f8c0",
        "outputId": "c2e676c5-2a10-4bea-e17e-592123137717"
      },
      "outputs": [
        {
          "name": "stdout",
          "output_type": "stream",
          "text": [
            "              precision    recall  f1-score   support\n",
            "\n",
            "           0       0.96      0.96      0.96      9423\n",
            "           1       0.95      0.96      0.95      8537\n",
            "\n",
            "    accuracy                           0.96     17960\n",
            "   macro avg       0.96      0.96      0.96     17960\n",
            "weighted avg       0.96      0.96      0.96     17960\n",
            "\n"
          ]
        }
      ],
      "source": [
        "print(classification_report(NF.predict(x_test) , y_test))"
      ]
    },
    {
      "cell_type": "code",
      "execution_count": null,
      "id": "d3d61902-b89e-415a-8d1a-6c0bf549cf14",
      "metadata": {
        "id": "d3d61902-b89e-415a-8d1a-6c0bf549cf14",
        "outputId": "30eea2ca-d539-431c-97e5-5db4a0fd848e"
      },
      "outputs": [
        {
          "name": "stdout",
          "output_type": "stream",
          "text": [
            "[[9003.  382.]\n",
            " [ 420. 8155.]]\n"
          ]
        }
      ],
      "source": [
        "dtc_pred = (NF.predict(x_test) > 0.5).astype(int)\n",
        "\n",
        "num_classes = 2\n",
        "confusion_matrixNF = np.zeros((num_classes, num_classes))\n",
        "\n",
        "for true, predict in zip(y_test, NF.predict(x_test)):\n",
        "    confusion_matrixNF[true][predict] += 1\n",
        "\n",
        "print(confusion_matrixNF)"
      ]
    },
    {
      "cell_type": "markdown",
      "id": "5e3ae7f0-1eae-4145-88b0-6257787e859e",
      "metadata": {
        "id": "5e3ae7f0-1eae-4145-88b0-6257787e859e"
      },
      "source": [
        "<font size = 4>**Support Vector Machine**<font>"
      ]
    },
    {
      "cell_type": "markdown",
      "id": "46f57b19-a43d-44b1-b3d8-3276428fed4d",
      "metadata": {
        "id": "46f57b19-a43d-44b1-b3d8-3276428fed4d"
      },
      "source": [
        "**About SVM**\n",
        "  \n",
        "    * SVM was a supervised classfication algorithm The goal of the SVM algorithm is to create the best line or decision boundary that can segregate n-dimensional space into classes so that we can easily put the new data point in the correct category in the future.\n",
        "    \n",
        "    * SVM chooses the extreme points/vectors that help in creating the hyperplane. These extreme cases are called as support vectors.\n",
        "    \n",
        "    * Separating Hyperplane: SVM aims to find an optimal hyperplane that separates the data points of different classes with the largest possible margin. The hyperplane is a decision boundary in the feature space.\n",
        "    \n",
        "    * Support Vectors: Support vectors are the data points that lie closest to the hyperplane. These points are critical in defining the decision boundary. Only the support vectors contribute to the construction of the SVM model, while other data points are ignored.\n",
        "    \n",
        "    \n",
        "\n",
        "**Types of SVM**\n",
        "       \n",
        "    1. Linear Support Vector Machine\n",
        "      * It was 2-dimensional space and the data will be segregate by using linear line as marign.\n",
        "      * Compare the Non - Linear SVM the Linear model more simpler and efficient to predict the accurate data set.\n",
        "      \n",
        "    2. Non-Linear Support Vector Machine\n",
        "      * It was 3-dimensional space and the data for 3d or more than 3-dimensional space will be using a 3d plane to segregate the data.\n",
        "      * By using linear line could not able to segregate the data as marign but its also a 2d space then its also known as non-linear svm example parabola.\n",
        "    "
      ]
    },
    {
      "cell_type": "markdown",
      "id": "b57b1e5d-ed07-4ed0-bb06-f2bacade57d5",
      "metadata": {
        "id": "b57b1e5d-ed07-4ed0-bb06-f2bacade57d5"
      },
      "source": [
        "![image.png](attachment:5e9cfb55-0b87-413e-a46a-bf9c4694eb04.png)"
      ]
    },
    {
      "cell_type": "code",
      "execution_count": null,
      "id": "7139d3ef-1fe5-441e-8d82-40eb15121530",
      "metadata": {
        "id": "7139d3ef-1fe5-441e-8d82-40eb15121530"
      },
      "outputs": [],
      "source": [
        "SVM = svm.SVC(kernel = 'linear' , random_state = 1)"
      ]
    },
    {
      "cell_type": "code",
      "execution_count": null,
      "id": "644ed974-ad58-4e24-a63c-c30a209da827",
      "metadata": {
        "id": "644ed974-ad58-4e24-a63c-c30a209da827",
        "outputId": "5f44839d-6be6-4632-ff25-5df998bd2225"
      },
      "outputs": [
        {
          "data": {
            "text/html": [
              "<style>#sk-container-id-4 {color: black;background-color: white;}#sk-container-id-4 pre{padding: 0;}#sk-container-id-4 div.sk-toggleable {background-color: white;}#sk-container-id-4 label.sk-toggleable__label {cursor: pointer;display: block;width: 100%;margin-bottom: 0;padding: 0.3em;box-sizing: border-box;text-align: center;}#sk-container-id-4 label.sk-toggleable__label-arrow:before {content: \"▸\";float: left;margin-right: 0.25em;color: #696969;}#sk-container-id-4 label.sk-toggleable__label-arrow:hover:before {color: black;}#sk-container-id-4 div.sk-estimator:hover label.sk-toggleable__label-arrow:before {color: black;}#sk-container-id-4 div.sk-toggleable__content {max-height: 0;max-width: 0;overflow: hidden;text-align: left;background-color: #f0f8ff;}#sk-container-id-4 div.sk-toggleable__content pre {margin: 0.2em;color: black;border-radius: 0.25em;background-color: #f0f8ff;}#sk-container-id-4 input.sk-toggleable__control:checked~div.sk-toggleable__content {max-height: 200px;max-width: 100%;overflow: auto;}#sk-container-id-4 input.sk-toggleable__control:checked~label.sk-toggleable__label-arrow:before {content: \"▾\";}#sk-container-id-4 div.sk-estimator input.sk-toggleable__control:checked~label.sk-toggleable__label {background-color: #d4ebff;}#sk-container-id-4 div.sk-label input.sk-toggleable__control:checked~label.sk-toggleable__label {background-color: #d4ebff;}#sk-container-id-4 input.sk-hidden--visually {border: 0;clip: rect(1px 1px 1px 1px);clip: rect(1px, 1px, 1px, 1px);height: 1px;margin: -1px;overflow: hidden;padding: 0;position: absolute;width: 1px;}#sk-container-id-4 div.sk-estimator {font-family: monospace;background-color: #f0f8ff;border: 1px dotted black;border-radius: 0.25em;box-sizing: border-box;margin-bottom: 0.5em;}#sk-container-id-4 div.sk-estimator:hover {background-color: #d4ebff;}#sk-container-id-4 div.sk-parallel-item::after {content: \"\";width: 100%;border-bottom: 1px solid gray;flex-grow: 1;}#sk-container-id-4 div.sk-label:hover label.sk-toggleable__label {background-color: #d4ebff;}#sk-container-id-4 div.sk-serial::before {content: \"\";position: absolute;border-left: 1px solid gray;box-sizing: border-box;top: 0;bottom: 0;left: 50%;z-index: 0;}#sk-container-id-4 div.sk-serial {display: flex;flex-direction: column;align-items: center;background-color: white;padding-right: 0.2em;padding-left: 0.2em;position: relative;}#sk-container-id-4 div.sk-item {position: relative;z-index: 1;}#sk-container-id-4 div.sk-parallel {display: flex;align-items: stretch;justify-content: center;background-color: white;position: relative;}#sk-container-id-4 div.sk-item::before, #sk-container-id-4 div.sk-parallel-item::before {content: \"\";position: absolute;border-left: 1px solid gray;box-sizing: border-box;top: 0;bottom: 0;left: 50%;z-index: -1;}#sk-container-id-4 div.sk-parallel-item {display: flex;flex-direction: column;z-index: 1;position: relative;background-color: white;}#sk-container-id-4 div.sk-parallel-item:first-child::after {align-self: flex-end;width: 50%;}#sk-container-id-4 div.sk-parallel-item:last-child::after {align-self: flex-start;width: 50%;}#sk-container-id-4 div.sk-parallel-item:only-child::after {width: 0;}#sk-container-id-4 div.sk-dashed-wrapped {border: 1px dashed gray;margin: 0 0.4em 0.5em 0.4em;box-sizing: border-box;padding-bottom: 0.4em;background-color: white;}#sk-container-id-4 div.sk-label label {font-family: monospace;font-weight: bold;display: inline-block;line-height: 1.2em;}#sk-container-id-4 div.sk-label-container {text-align: center;}#sk-container-id-4 div.sk-container {/* jupyter's `normalize.less` sets `[hidden] { display: none; }` but bootstrap.min.css set `[hidden] { display: none !important; }` so we also need the `!important` here to be able to override the default hidden behavior on the sphinx rendered scikit-learn.org. See: https://github.com/scikit-learn/scikit-learn/issues/21755 */display: inline-block !important;position: relative;}#sk-container-id-4 div.sk-text-repr-fallback {display: none;}</style><div id=\"sk-container-id-4\" class=\"sk-top-container\"><div class=\"sk-text-repr-fallback\"><pre>SVC(kernel=&#x27;linear&#x27;, random_state=1)</pre><b>In a Jupyter environment, please rerun this cell to show the HTML representation or trust the notebook. <br />On GitHub, the HTML representation is unable to render, please try loading this page with nbviewer.org.</b></div><div class=\"sk-container\" hidden><div class=\"sk-item\"><div class=\"sk-estimator sk-toggleable\"><input class=\"sk-toggleable__control sk-hidden--visually\" id=\"sk-estimator-id-4\" type=\"checkbox\" checked><label for=\"sk-estimator-id-4\" class=\"sk-toggleable__label sk-toggleable__label-arrow\">SVC</label><div class=\"sk-toggleable__content\"><pre>SVC(kernel=&#x27;linear&#x27;, random_state=1)</pre></div></div></div></div></div>"
            ],
            "text/plain": [
              "SVC(kernel='linear', random_state=1)"
            ]
          },
          "execution_count": 33,
          "metadata": {},
          "output_type": "execute_result"
        }
      ],
      "source": [
        "SVM.fit(x_train , y_train)"
      ]
    },
    {
      "cell_type": "code",
      "execution_count": null,
      "id": "08d01cb9-23f3-4065-8759-84441d96d783",
      "metadata": {
        "id": "08d01cb9-23f3-4065-8759-84441d96d783",
        "outputId": "c3579520-14a5-41b8-ed6e-7a9e83a38e7e"
      },
      "outputs": [
        {
          "name": "stdout",
          "output_type": "stream",
          "text": [
            "The Accuracy Score of the Support Vector Machine 1.00 % out of 1.0"
          ]
        }
      ],
      "source": [
        "scoreSupportVectorMachine = accuracy_score(SVM.predict(x_test) , y_test)\n",
        "print(\"The Accuracy Score of the Support Vector Machine %.2f \" % scoreSupportVectorMachine,end = \"% out of 1.0\")"
      ]
    },
    {
      "cell_type": "code",
      "execution_count": null,
      "id": "b359d5e1-37b8-46f4-b030-7f4741f2329e",
      "metadata": {
        "id": "b359d5e1-37b8-46f4-b030-7f4741f2329e",
        "outputId": "e68a586c-bdba-4bef-f605-32f286948649"
      },
      "outputs": [
        {
          "name": "stdout",
          "output_type": "stream",
          "text": [
            "              precision    recall  f1-score   support\n",
            "\n",
            "           0       1.00      1.00      1.00      9361\n",
            "           1       1.00      1.00      1.00      8599\n",
            "\n",
            "    accuracy                           1.00     17960\n",
            "   macro avg       1.00      1.00      1.00     17960\n",
            "weighted avg       1.00      1.00      1.00     17960\n",
            "\n"
          ]
        }
      ],
      "source": [
        "print(classification_report(SVM.predict(x_test) , y_test))"
      ]
    },
    {
      "cell_type": "code",
      "execution_count": null,
      "id": "2de6c40d-241a-4f41-9240-495d7f35f9f3",
      "metadata": {
        "id": "2de6c40d-241a-4f41-9240-495d7f35f9f3",
        "outputId": "3e1dc333-362e-41f7-f2e7-b69a2caf2dec"
      },
      "outputs": [
        {
          "name": "stdout",
          "output_type": "stream",
          "text": [
            "[[9343.   42.]\n",
            " [  18. 8557.]]\n"
          ]
        }
      ],
      "source": [
        "dtc_pred = (SVM.predict(x_test) > 0.5).astype(int)\n",
        "\n",
        "num_classes = 2\n",
        "confusion_matrixSVM = np.zeros((num_classes, num_classes))\n",
        "\n",
        "for true, predict in zip(y_test, SVM.predict(x_test)):\n",
        "    confusion_matrixSVM[true][predict] += 1\n",
        "\n",
        "print(confusion_matrixSVM)"
      ]
    },
    {
      "cell_type": "markdown",
      "id": "455dbb64-9cac-460a-973d-03e838a4935d",
      "metadata": {
        "id": "455dbb64-9cac-460a-973d-03e838a4935d"
      },
      "source": [
        "<font size = 4>**Gradient Boosting**<font>"
      ]
    },
    {
      "cell_type": "markdown",
      "id": "b699377d-5274-49cf-b020-1b4a6097278b",
      "metadata": {
        "id": "b699377d-5274-49cf-b020-1b4a6097278b"
      },
      "source": [
        "<font size = 3>\n",
        " About Boosting:The principle behind boosting algorithms is first we built a model on the training dataset, then a second model is built to rectify the errors present in the first model.\n",
        "<font>"
      ]
    },
    {
      "cell_type": "code",
      "execution_count": null,
      "id": "5b78c7f1-3c9a-4a4c-873f-ba193a421090",
      "metadata": {
        "id": "5b78c7f1-3c9a-4a4c-873f-ba193a421090",
        "outputId": "9a0cc58d-bcde-400e-c6a6-79a935eac46d"
      },
      "outputs": [
        {
          "data": {
            "text/html": [
              "<style>#sk-container-id-5 {color: black;background-color: white;}#sk-container-id-5 pre{padding: 0;}#sk-container-id-5 div.sk-toggleable {background-color: white;}#sk-container-id-5 label.sk-toggleable__label {cursor: pointer;display: block;width: 100%;margin-bottom: 0;padding: 0.3em;box-sizing: border-box;text-align: center;}#sk-container-id-5 label.sk-toggleable__label-arrow:before {content: \"▸\";float: left;margin-right: 0.25em;color: #696969;}#sk-container-id-5 label.sk-toggleable__label-arrow:hover:before {color: black;}#sk-container-id-5 div.sk-estimator:hover label.sk-toggleable__label-arrow:before {color: black;}#sk-container-id-5 div.sk-toggleable__content {max-height: 0;max-width: 0;overflow: hidden;text-align: left;background-color: #f0f8ff;}#sk-container-id-5 div.sk-toggleable__content pre {margin: 0.2em;color: black;border-radius: 0.25em;background-color: #f0f8ff;}#sk-container-id-5 input.sk-toggleable__control:checked~div.sk-toggleable__content {max-height: 200px;max-width: 100%;overflow: auto;}#sk-container-id-5 input.sk-toggleable__control:checked~label.sk-toggleable__label-arrow:before {content: \"▾\";}#sk-container-id-5 div.sk-estimator input.sk-toggleable__control:checked~label.sk-toggleable__label {background-color: #d4ebff;}#sk-container-id-5 div.sk-label input.sk-toggleable__control:checked~label.sk-toggleable__label {background-color: #d4ebff;}#sk-container-id-5 input.sk-hidden--visually {border: 0;clip: rect(1px 1px 1px 1px);clip: rect(1px, 1px, 1px, 1px);height: 1px;margin: -1px;overflow: hidden;padding: 0;position: absolute;width: 1px;}#sk-container-id-5 div.sk-estimator {font-family: monospace;background-color: #f0f8ff;border: 1px dotted black;border-radius: 0.25em;box-sizing: border-box;margin-bottom: 0.5em;}#sk-container-id-5 div.sk-estimator:hover {background-color: #d4ebff;}#sk-container-id-5 div.sk-parallel-item::after {content: \"\";width: 100%;border-bottom: 1px solid gray;flex-grow: 1;}#sk-container-id-5 div.sk-label:hover label.sk-toggleable__label {background-color: #d4ebff;}#sk-container-id-5 div.sk-serial::before {content: \"\";position: absolute;border-left: 1px solid gray;box-sizing: border-box;top: 0;bottom: 0;left: 50%;z-index: 0;}#sk-container-id-5 div.sk-serial {display: flex;flex-direction: column;align-items: center;background-color: white;padding-right: 0.2em;padding-left: 0.2em;position: relative;}#sk-container-id-5 div.sk-item {position: relative;z-index: 1;}#sk-container-id-5 div.sk-parallel {display: flex;align-items: stretch;justify-content: center;background-color: white;position: relative;}#sk-container-id-5 div.sk-item::before, #sk-container-id-5 div.sk-parallel-item::before {content: \"\";position: absolute;border-left: 1px solid gray;box-sizing: border-box;top: 0;bottom: 0;left: 50%;z-index: -1;}#sk-container-id-5 div.sk-parallel-item {display: flex;flex-direction: column;z-index: 1;position: relative;background-color: white;}#sk-container-id-5 div.sk-parallel-item:first-child::after {align-self: flex-end;width: 50%;}#sk-container-id-5 div.sk-parallel-item:last-child::after {align-self: flex-start;width: 50%;}#sk-container-id-5 div.sk-parallel-item:only-child::after {width: 0;}#sk-container-id-5 div.sk-dashed-wrapped {border: 1px dashed gray;margin: 0 0.4em 0.5em 0.4em;box-sizing: border-box;padding-bottom: 0.4em;background-color: white;}#sk-container-id-5 div.sk-label label {font-family: monospace;font-weight: bold;display: inline-block;line-height: 1.2em;}#sk-container-id-5 div.sk-label-container {text-align: center;}#sk-container-id-5 div.sk-container {/* jupyter's `normalize.less` sets `[hidden] { display: none; }` but bootstrap.min.css set `[hidden] { display: none !important; }` so we also need the `!important` here to be able to override the default hidden behavior on the sphinx rendered scikit-learn.org. See: https://github.com/scikit-learn/scikit-learn/issues/21755 */display: inline-block !important;position: relative;}#sk-container-id-5 div.sk-text-repr-fallback {display: none;}</style><div id=\"sk-container-id-5\" class=\"sk-top-container\"><div class=\"sk-text-repr-fallback\"><pre>GradientBoostingClassifier(learning_rate=1.2, max_features=5, n_estimators=900,\n",
              "                           random_state=5)</pre><b>In a Jupyter environment, please rerun this cell to show the HTML representation or trust the notebook. <br />On GitHub, the HTML representation is unable to render, please try loading this page with nbviewer.org.</b></div><div class=\"sk-container\" hidden><div class=\"sk-item\"><div class=\"sk-estimator sk-toggleable\"><input class=\"sk-toggleable__control sk-hidden--visually\" id=\"sk-estimator-id-5\" type=\"checkbox\" checked><label for=\"sk-estimator-id-5\" class=\"sk-toggleable__label sk-toggleable__label-arrow\">GradientBoostingClassifier</label><div class=\"sk-toggleable__content\"><pre>GradientBoostingClassifier(learning_rate=1.2, max_features=5, n_estimators=900,\n",
              "                           random_state=5)</pre></div></div></div></div></div>"
            ],
            "text/plain": [
              "GradientBoostingClassifier(learning_rate=1.2, max_features=5, n_estimators=900,\n",
              "                           random_state=5)"
            ]
          },
          "execution_count": 37,
          "metadata": {},
          "output_type": "execute_result"
        }
      ],
      "source": [
        "from sklearn.ensemble import GradientBoostingClassifier\n",
        "GB = GradientBoostingClassifier(n_estimators = 900 , max_features = 5 , learning_rate = 1.2 , random_state = 5)\n",
        "GB.fit(x_train , y_train)"
      ]
    },
    {
      "cell_type": "code",
      "execution_count": null,
      "id": "03e1bc3f-a0d2-4765-aa20-b8a899e436d3",
      "metadata": {
        "id": "03e1bc3f-a0d2-4765-aa20-b8a899e436d3",
        "outputId": "48cb270f-6c6c-48bb-b58e-624085d2269c"
      },
      "outputs": [
        {
          "name": "stdout",
          "output_type": "stream",
          "text": [
            "The Accuracy Score of the Gradient Boosting 0.90 % out of 1.0"
          ]
        }
      ],
      "source": [
        "scoreGradientBoost = accuracy_score(GB.predict(x_test) , y_test)\n",
        "print(\"The Accuracy Score of the Gradient Boosting %.2f \" % scoreGradientBoost,end = \"% out of 1.0\")"
      ]
    },
    {
      "cell_type": "code",
      "execution_count": null,
      "id": "1a49151b-dbf8-4404-ac13-d2c60586266a",
      "metadata": {
        "id": "1a49151b-dbf8-4404-ac13-d2c60586266a",
        "outputId": "a074fd5b-9387-4167-d8ba-132cfee0507d"
      },
      "outputs": [
        {
          "name": "stdout",
          "output_type": "stream",
          "text": [
            "[[8524.  861.]\n",
            " [ 981. 7594.]]\n"
          ]
        }
      ],
      "source": [
        "dtc_pred = (GB.predict(x_test) > 0.5).astype(int)\n",
        "\n",
        "num_classes = 2\n",
        "confusion_matrixGB = np.zeros((num_classes, num_classes))\n",
        "\n",
        "for true, predict in zip(y_test, GB.predict(x_test)):\n",
        "    confusion_matrixGB[true][predict] += 1\n",
        "\n",
        "print(confusion_matrixGB)"
      ]
    },
    {
      "cell_type": "code",
      "execution_count": null,
      "id": "377bd949-e4b8-4e87-9653-dad892a7bdd1",
      "metadata": {
        "id": "377bd949-e4b8-4e87-9653-dad892a7bdd1",
        "outputId": "8f915bf4-3552-445f-cdea-9413d000ee0a"
      },
      "outputs": [
        {
          "name": "stdout",
          "output_type": "stream",
          "text": [
            "The Accuracy Score of the Gradient Boosting 0.90 % out of 1.0"
          ]
        }
      ],
      "source": [
        "scoreGradientBoost = accuracy_score(GB.predict(x_test) , y_test)\n",
        "print(\"The Accuracy Score of the Gradient Boosting %.2f \" % scoreGradientBoost,end = \"% out of 1.0\")"
      ]
    },
    {
      "cell_type": "markdown",
      "id": "84d1e0a9-9bfa-4650-b108-1d0385b6b72f",
      "metadata": {
        "id": "84d1e0a9-9bfa-4650-b108-1d0385b6b72f"
      },
      "source": [
        "<font size = 4>**Neural Network**<font>"
      ]
    },
    {
      "cell_type": "markdown",
      "id": "ebcc54c1-4879-4f35-8c37-8ce69b10f5b8",
      "metadata": {
        "id": "ebcc54c1-4879-4f35-8c37-8ce69b10f5b8"
      },
      "source": [
        "**About Tensorflow and Keras**\n",
        "\n",
        "    TensorFlow is a free and open-source software library for machine learning and artificial intelligence. It can be used across a range of tasks but has a particular focus on training and inference of deep neural networks.\n",
        "    \n",
        "    Keras Keras was API used for the tensorflow to build the neural network in fast and efficient way which include all the necessary methods and class's.\n",
        "   "
      ]
    },
    {
      "cell_type": "markdown",
      "id": "e9732358-4a3b-4817-9555-a159e03fcec5",
      "metadata": {
        "id": "e9732358-4a3b-4817-9555-a159e03fcec5"
      },
      "source": [
        "![image.png](attachment:4d8b788a-2fb7-45ad-af47-a5778feba3aa.png)"
      ]
    },
    {
      "cell_type": "markdown",
      "id": "722f3f21-3a93-4c36-8229-4e238d287ea8",
      "metadata": {
        "id": "722f3f21-3a93-4c36-8229-4e238d287ea8"
      },
      "source": [
        "**What is Neural Network**\n",
        "      \n",
        "      * Its a technique for building a computer program that learns from data. It is based very loosely on how we think the human brain works.\n",
        "      \n",
        "      * Neural networks and deep learning currently provide the best solutions to many problems in image recognition, speech recognition, and natural language processing.\n",
        "      \n",
        "      * About Neurons  Each neuron is a mathematical function that computes the weighted average of its input, and this sum is passed through a nonlinear function, often called an activation function, such as the sigmoid.\n",
        "      \n",
        "      * Each Neuron will be connected to next layers neuron and each connection will be in different weights which helps to carry the embedded numeric data\n",
        "\n",
        "**About Sequential Model Neural Network**\n",
        "       \n",
        "      * A Sequential model is a type of neural network architecture that is commonly used for building deep learning models.\n",
        "      \n",
        "      * It is a linear stack of layers, where the output of each layer is passed as the input to the next layer.\n",
        "      \n",
        "      * Sequential models are easy to define and understand, making them suitable for many common deep learning tasks.\n",
        "\n",
        "                               "
      ]
    },
    {
      "cell_type": "markdown",
      "id": "c43ed3db-5e4d-4800-a235-f83c9272d31a",
      "metadata": {
        "id": "c43ed3db-5e4d-4800-a235-f83c9272d31a"
      },
      "source": [
        "![image.png](attachment:70117ceb-d110-4d14-bfba-bf02cd0bfca2.png)"
      ]
    },
    {
      "cell_type": "markdown",
      "id": "db429aac-f33c-4c13-b990-75cc6057d1bb",
      "metadata": {
        "id": "db429aac-f33c-4c13-b990-75cc6057d1bb"
      },
      "source": [
        "**Layers of Neural Network**\n",
        "     \n",
        "     1) Input Layer\n",
        "        The input layer of a neural network is the initial layer that receives the input data and passes it forward through the network for processing, Which helps to carry the data into the neural network and pass's to the next layer of the neural network.\n",
        "     \n",
        "     2) Hidden Layer\n",
        "        A hidden layer in a neural network is a layer that comes between the input layer and the output layer. It is called a \"hidden\" layer because its neurons and their computations are not directly exposed to the external world or the input/output data. The hidden layer enable the network to learn complex patterns and representations from the input data.The number of hidden layers and the number of neurons in each hidden layer are design choices that depend on the specific problem and the complexity of the data.\n",
        "     \n",
        "     3) Output Layer\n",
        "        The output layer in a neural network is the final layer that produces the network's output or predictions. It is responsible for mapping the learned representations from the preceding layers to the desired output format, depending on the specific task."
      ]
    },
    {
      "cell_type": "code",
      "execution_count": null,
      "id": "6c36f36d-067e-4804-8414-f7680dbe87b7",
      "metadata": {
        "id": "6c36f36d-067e-4804-8414-f7680dbe87b7",
        "outputId": "41f3ebd3-db2f-4b92-a96c-3de72d163a69"
      },
      "outputs": [
        {
          "name": "stderr",
          "output_type": "stream",
          "text": [
            "2023-07-05 23:16:56.442807: I tensorflow/tsl/cuda/cudart_stub.cc:28] Could not find cuda drivers on your machine, GPU will not be used.\n",
            "2023-07-05 23:16:57.906485: I tensorflow/tsl/cuda/cudart_stub.cc:28] Could not find cuda drivers on your machine, GPU will not be used.\n",
            "2023-07-05 23:16:57.918508: I tensorflow/core/platform/cpu_feature_guard.cc:182] This TensorFlow binary is optimized to use available CPU instructions in performance-critical operations.\n",
            "To enable the following instructions: AVX2 AVX512F FMA, in other operations, rebuild TensorFlow with the appropriate compiler flags.\n",
            "2023-07-05 23:17:11.820603: W tensorflow/compiler/tf2tensorrt/utils/py_utils.cc:38] TF-TRT Warning: Could not find TensorRT\n",
            "2023-07-05 23:17:36.914727: E itex/core/kernels/xpu_kernel.cc:38] XPU-GPU kernel not supported.\n",
            "If you need help, create an issue at https://github.com/intel/intel-extension-for-tensorflow/issues\n"
          ]
        }
      ],
      "source": [
        "import numpy as np\n",
        "import tensorflow as tf\n",
        "from tensorflow.keras.preprocessing.text import Tokenizer\n",
        "from tensorflow.keras.preprocessing.sequence import pad_sequences"
      ]
    },
    {
      "cell_type": "markdown",
      "id": "a14be7b5-c65a-4e15-91a4-fd98a78cb151",
      "metadata": {
        "id": "a14be7b5-c65a-4e15-91a4-fd98a78cb151"
      },
      "source": [
        "**Storing the data set into numpy array as text and label**"
      ]
    },
    {
      "cell_type": "code",
      "execution_count": null,
      "id": "3db9790a-8465-45f3-bc49-ea343b37d9a7",
      "metadata": {
        "id": "3db9790a-8465-45f3-bc49-ea343b37d9a7"
      },
      "outputs": [],
      "source": [
        "text = np.array(data['text'])"
      ]
    },
    {
      "cell_type": "code",
      "execution_count": null,
      "id": "09d5f2a9-df28-458b-9824-7c6c75aa06aa",
      "metadata": {
        "id": "09d5f2a9-df28-458b-9824-7c6c75aa06aa"
      },
      "outputs": [],
      "source": [
        "label = np.array(data['label'])"
      ]
    },
    {
      "cell_type": "markdown",
      "id": "74f9ee30-77e0-455b-887c-7cfe1e184488",
      "metadata": {
        "id": "74f9ee30-77e0-455b-887c-7cfe1e184488"
      },
      "source": [
        "**About Tokenizer**\n",
        "   \n",
        "    * keras.preprocessing.text.Tokenizer is a very useful tokenizer for text processing.\n",
        "    * Tokenizer assumes that the word tokens of the input texts have been delimited by whitespaces.\n",
        "    \n",
        "    * Tokenizer provides the following functions:\n",
        "    \n",
        "        1) It will first create a dictionary for the entire corpus (a mapping of each word token and its unique integer index index) (Tokenizer.fit_on_text())\n",
        "        \n",
        "        2) It can then use the corpus dictionary to convert words in each corpus text into integer sequences (Tokenizer.texts_to_sequences())\n"
      ]
    },
    {
      "cell_type": "code",
      "execution_count": null,
      "id": "46f3f86f-8238-4c31-8d29-e6f124a59efa",
      "metadata": {
        "id": "46f3f86f-8238-4c31-8d29-e6f124a59efa"
      },
      "outputs": [],
      "source": [
        "token = Tokenizer()\n",
        "token.fit_on_texts(text)\n",
        "word_index = token.word_index\n",
        "vocab_size = len(word_index) + 1"
      ]
    },
    {
      "cell_type": "code",
      "execution_count": null,
      "id": "c506be07-7308-4cfe-b5f0-45dc23a2dc99",
      "metadata": {
        "id": "c506be07-7308-4cfe-b5f0-45dc23a2dc99"
      },
      "outputs": [],
      "source": [
        "sequence = token.texts_to_sequences(text)"
      ]
    },
    {
      "cell_type": "code",
      "execution_count": null,
      "id": "dd45bf56-8cf0-4103-ac43-db052ae01f0a",
      "metadata": {
        "id": "dd45bf56-8cf0-4103-ac43-db052ae01f0a"
      },
      "outputs": [],
      "source": [
        "max_length = max([len(seq) for seq in sequence])"
      ]
    },
    {
      "cell_type": "markdown",
      "id": "e915576c-27e3-415b-ab60-8f19b458c3f5",
      "metadata": {
        "id": "e915576c-27e3-415b-ab60-8f19b458c3f5"
      },
      "source": [
        "**About pad_sequence method**\n",
        "\n",
        "     Is a function provided by the Keras API, which is a high-level deep learning library built on top of TensorFlow.Function takes in a list of sequences and performs the padding or truncation operation to make all sequences of equal length. It is commonly used in natural language processing (NLP) tasks.\n",
        "     \n",
        "     Example :\n",
        "      \n",
        "      sequence = [[1], [2, 3], [4, 5, 6]]\n",
        "      tf.keras.utils.pad_sequences(sequence)\n",
        "      \n",
        "      Output\n",
        "  ![image.png](attachment:58ba34d3-3a00-4fd7-ba7f-822b66d03341.png)"
      ]
    },
    {
      "cell_type": "markdown",
      "id": "249944c0-daeb-4fa9-9c20-c996f0140be6",
      "metadata": {
        "id": "249944c0-daeb-4fa9-9c20-c996f0140be6"
      },
      "source": [
        "![image.png](attachment:3e2da4f3-a67b-4631-8020-70829642394a.png)"
      ]
    },
    {
      "cell_type": "code",
      "execution_count": null,
      "id": "03b9966a-ef55-4b5c-8924-5e86ce17a770",
      "metadata": {
        "id": "03b9966a-ef55-4b5c-8924-5e86ce17a770"
      },
      "outputs": [],
      "source": [
        "padded = pad_sequences(sequence , maxlen = max_length)"
      ]
    },
    {
      "cell_type": "markdown",
      "id": "ba6eb7e2-4119-4adb-a490-80415ef77a1b",
      "metadata": {
        "id": "ba6eb7e2-4119-4adb-a490-80415ef77a1b"
      },
      "source": [
        "**Types of Layers Used in the Model**\n",
        "\n",
        "    1) tf.keras.layers.Embedding is a layer in TensorFlow's Keras API that is used for word embedding in natural language processing (NLP) tasks. It converts input integers (representing words or tokens) into dense vectors of fixed size.can also be used in more complex network architectures, such as recurrent neural networks (RNNs) or convolutional neural networks (CNNs), where it serves as an input layer for the text data.\n",
        "    \n",
        "    2) tf.keras.layers.GlobalAveragePooling1D TensorFlow's Keras API that performs global average pooling over the temporal dimension of a 1D input tensor. It is commonly used in text classification or sequence-to-vector tasks where the input is a sequence of vectors, such as word embeddings or encoded sentences.GlobalAveragePooling1D layer is often used as a simple and efficient alternative to flattening the sequence and applying a Dense layer to process the entire sequence.\n",
        "    \n",
        "    3) tf.keras.layers.Dense s a fully connected layer in TensorFlow's Keras API. It is one of the fundamental building blocks of a neural network. The layer performs a linear transformation on its input.\n",
        "    \n",
        "       activation = 'relu'  ReLU sets all negative values to zero and leaves positive values unchanged. This activation function introduces non-linearity to the network, enabling it to learn complex patterns and make the model more expressive.By using ReLU activation, the layer will output values greater than or equal to zero, preserving positive values and discarding negative ones.\n",
        "       \n",
        "                                                       ReLU(x) = max(0, x)\n",
        "\n",
        "       \n",
        "       activation = 'sigmoid' The Sigmoid function, also known as the logistic function, is a popular activation function used for binary classification problems or tasks where the output needs to be in the range [0, 1].The function maps any real value to the range (0, 1), which can be interpreted as a probability. It's particularly useful when you want to estimate the probability of a certain class or perform binary classification by setting a threshold on the output.\n",
        "       \n",
        "                                                       Sigmoid(x) = 1 / (1 + exp(-x))\n",
        "\n",
        "       \n",
        "![image.png](attachment:41c77a05-4d5e-419c-91c4-eadc41b53355.png)"
      ]
    },
    {
      "cell_type": "code",
      "execution_count": null,
      "id": "1daf16f9-0715-4bec-b655-6838497986c8",
      "metadata": {
        "id": "1daf16f9-0715-4bec-b655-6838497986c8"
      },
      "outputs": [],
      "source": [
        "model = tf.keras.models.Sequential([\n",
        "    tf.keras.layers.Embedding(vocab_size , 20 , input_length = max_length , name = \"Embedding\"),\n",
        "    tf.keras.layers.GlobalAveragePooling1D(),\n",
        "    tf.keras.layers.Dense(20 , activation = 'relu'),\n",
        "    tf.keras.layers.Dense(1 , activation = 'sigmoid')\n",
        "])"
      ]
    },
    {
      "cell_type": "markdown",
      "id": "c0819e66-f0c0-4310-a199-3e727e934790",
      "metadata": {
        "id": "c0819e66-f0c0-4310-a199-3e727e934790"
      },
      "source": [
        "        model.compile is used to compile all the layers we fit into the model and by using certain parameters we calculate the loss  and accuracy of the neural network.\n",
        "        \n",
        "        About optimizer = 'adam' Adam (short for Adaptive Moment Estimation) is a popular optimization algorithm commonly used in deep learning. It combines the advantages of two other optimization algorithms, AdaGrad and RMSProp, to provide efficient and adaptive optimization of the model's weights."
      ]
    },
    {
      "cell_type": "code",
      "execution_count": null,
      "id": "7e95779c-3fb1-4d3b-83eb-2b1596864066",
      "metadata": {
        "id": "7e95779c-3fb1-4d3b-83eb-2b1596864066"
      },
      "outputs": [],
      "source": [
        "model.compile(loss = 'binary_crossentropy' , optimizer = 'adam' , metrics = ['accuracy'])"
      ]
    },
    {
      "cell_type": "code",
      "execution_count": null,
      "id": "11cbaaa9-bee9-4aea-b073-e213655d3ad4",
      "metadata": {
        "id": "11cbaaa9-bee9-4aea-b073-e213655d3ad4",
        "outputId": "ba5fc39d-9b4b-41f9-febc-ca0467eb34b2"
      },
      "outputs": [
        {
          "name": "stdout",
          "output_type": "stream",
          "text": [
            "Model: \"sequential\"\n",
            "_________________________________________________________________\n",
            " Layer (type)                Output Shape              Param #   \n",
            "=================================================================\n",
            " Embedding (Embedding)       (None, 5182, 20)          2523520   \n",
            "                                                                 \n",
            " global_average_pooling1d (G  (None, 20)               0         \n",
            " lobalAveragePooling1D)                                          \n",
            "                                                                 \n",
            " dense (Dense)               (None, 20)                420       \n",
            "                                                                 \n",
            " dense_1 (Dense)             (None, 1)                 21        \n",
            "                                                                 \n",
            "=================================================================\n",
            "Total params: 2,523,961\n",
            "Trainable params: 2,523,961\n",
            "Non-trainable params: 0\n",
            "_________________________________________________________________\n"
          ]
        }
      ],
      "source": [
        "model.summary()"
      ]
    },
    {
      "cell_type": "code",
      "execution_count": null,
      "id": "6fb47992-8aae-4989-938e-02192557ac8c",
      "metadata": {
        "id": "6fb47992-8aae-4989-938e-02192557ac8c"
      },
      "outputs": [],
      "source": [
        "paddedX_train ,paddedX_test ,paddedY_train ,paddedY_test = train_test_split(padded , label , test_size = 0.4)"
      ]
    },
    {
      "cell_type": "code",
      "execution_count": null,
      "id": "e731993b-c22e-43d4-aac1-5ea5496438c9",
      "metadata": {
        "id": "e731993b-c22e-43d4-aac1-5ea5496438c9",
        "outputId": "1fad2a62-646f-433a-d5ad-631d70e79d26"
      },
      "outputs": [
        {
          "name": "stderr",
          "output_type": "stream",
          "text": [
            "2023-07-05 23:18:05.643964: I tensorflow/core/grappler/optimizers/custom_graph_optimizer_registry.cc:114] Plugin optimizer for device_type CPU is enabled.\n",
            "2023-07-05 23:18:05.801512: I tensorflow/core/grappler/optimizers/custom_graph_optimizer_registry.cc:114] Plugin optimizer for device_type CPU is enabled.\n",
            "2023-07-05 23:18:05.840220: I tensorflow/core/grappler/optimizers/custom_graph_optimizer_registry.cc:114] Plugin optimizer for device_type CPU is enabled.\n"
          ]
        },
        {
          "name": "stdout",
          "output_type": "stream",
          "text": [
            "Epoch 1/10\n"
          ]
        },
        {
          "name": "stderr",
          "output_type": "stream",
          "text": [
            "2023-07-05 23:18:06.456160: I tensorflow/core/grappler/optimizers/custom_graph_optimizer_registry.cc:114] Plugin optimizer for device_type CPU is enabled.\n"
          ]
        },
        {
          "name": "stdout",
          "output_type": "stream",
          "text": [
            "842/842 [==============================] - 37s 42ms/step - loss: 0.5643 - accuracy: 0.7351\n",
            "Epoch 2/10\n",
            "842/842 [==============================] - 35s 42ms/step - loss: 0.1619 - accuracy: 0.9748\n",
            "Epoch 3/10\n",
            "842/842 [==============================] - 36s 42ms/step - loss: 0.0771 - accuracy: 0.9866\n",
            "Epoch 4/10\n",
            "842/842 [==============================] - 36s 43ms/step - loss: 0.0488 - accuracy: 0.9918\n",
            "Epoch 5/10\n",
            "842/842 [==============================] - 36s 43ms/step - loss: 0.0324 - accuracy: 0.9951\n",
            "Epoch 6/10\n",
            "842/842 [==============================] - 36s 43ms/step - loss: 0.0238 - accuracy: 0.9968\n",
            "Epoch 7/10\n",
            "842/842 [==============================] - 37s 43ms/step - loss: 0.0174 - accuracy: 0.9977\n",
            "Epoch 8/10\n",
            "842/842 [==============================] - 36s 43ms/step - loss: 0.0134 - accuracy: 0.9982\n",
            "Epoch 9/10\n",
            "842/842 [==============================] - 37s 43ms/step - loss: 0.0107 - accuracy: 0.9982\n",
            "Epoch 10/10\n",
            "842/842 [==============================] - 36s 43ms/step - loss: 0.0078 - accuracy: 0.9990\n"
          ]
        },
        {
          "data": {
            "text/plain": [
              "<keras.callbacks.History at 0x7f62dd324eb0>"
            ]
          },
          "execution_count": 52,
          "metadata": {},
          "output_type": "execute_result"
        }
      ],
      "source": [
        "model.fit(paddedX_train , paddedY_train , epochs = 10)"
      ]
    },
    {
      "cell_type": "code",
      "execution_count": null,
      "id": "8f3ef8af-82cc-432a-a910-9a335b830dbc",
      "metadata": {
        "id": "8f3ef8af-82cc-432a-a910-9a335b830dbc",
        "outputId": "d495e148-a1c8-420c-ee2c-9ff41a94b80c"
      },
      "outputs": [
        {
          "name": "stderr",
          "output_type": "stream",
          "text": [
            "2023-07-05 23:24:07.788474: I tensorflow/core/grappler/optimizers/custom_graph_optimizer_registry.cc:114] Plugin optimizer for device_type CPU is enabled.\n",
            "2023-07-05 23:24:07.795867: I tensorflow/core/grappler/optimizers/custom_graph_optimizer_registry.cc:114] Plugin optimizer for device_type CPU is enabled.\n",
            "2023-07-05 23:24:07.807607: I tensorflow/core/grappler/optimizers/custom_graph_optimizer_registry.cc:114] Plugin optimizer for device_type CPU is enabled.\n",
            "2023-07-05 23:24:08.165284: I tensorflow/core/grappler/optimizers/custom_graph_optimizer_registry.cc:114] Plugin optimizer for device_type CPU is enabled.\n"
          ]
        }
      ],
      "source": [
        "scoreNeuralNetwork = model.evaluate(paddedX_test , paddedY_test , verbose = 0)"
      ]
    },
    {
      "cell_type": "code",
      "execution_count": null,
      "id": "12b60365-aeb1-42db-b183-db854838c39b",
      "metadata": {
        "id": "12b60365-aeb1-42db-b183-db854838c39b",
        "outputId": "bd96aa1a-e046-4d64-9ad5-9e9b1cd378a5"
      },
      "outputs": [
        {
          "name": "stdout",
          "output_type": "stream",
          "text": [
            "The Accuracy Score of the Neural Network of Sequential Model 0.99 % out of 1.0"
          ]
        }
      ],
      "source": [
        "print(\"The Accuracy Score of the Neural Network of Sequential Model %.2f \" % scoreNeuralNetwork[1],end = \"% out of 1.0\")"
      ]
    },
    {
      "cell_type": "markdown",
      "id": "562348d2-12e5-4da6-9b83-04a6a8b11714",
      "metadata": {
        "id": "562348d2-12e5-4da6-9b83-04a6a8b11714"
      },
      "source": [
        "<font size = 4>**Decision Tree Classifier**<font>"
      ]
    },
    {
      "cell_type": "markdown",
      "id": "8196a667-2d07-43a8-8b1e-eca1e19ea1ca",
      "metadata": {
        "id": "8196a667-2d07-43a8-8b1e-eca1e19ea1ca"
      },
      "source": [
        "**About Decision Tree Classifier Model**\n",
        "      \n",
        "    * A decision tree is a popular and widely used machine learning algorithm that resembles a flowchart-like structure, representing decisions and their possible consequences.\n",
        "    * It is a predictive model used for classification and regression tasks.\n",
        "    * The decision tree algorithm learns from labelled training data and builds a hierarchical structure of decision nodes and leaf nodes.\n",
        "    \n",
        "    * Difference between Decision tree classifier and other machine learning models\n",
        "      1)Interpretability\n",
        "        * Decision trees are highly interpretable models. The decision rules inferred from the tree structure can be easily understood and visualized\n",
        "        * In contrast, some other models, like neural networks or support vector machines, are often considered black-box models, making it harder to interpret their decisions.\n",
        "        \n",
        "      2)Nonlinearity\n",
        "        * Decision trees can capture nonlinear relationships between features and the target variable without requiring explicit feature transformations, This can be advantageous when the underlying data has complex nonlinear patterns.\n",
        "      \n",
        "      3)Generalization Performance\n",
        "        * Decision trees have a tendency to overfit the training data, especially when the tree becomes deep and complex.\n",
        "        "
      ]
    },
    {
      "cell_type": "markdown",
      "id": "3cf25921-38ee-4b79-a4a9-3852c8a90f55",
      "metadata": {
        "id": "3cf25921-38ee-4b79-a4a9-3852c8a90f55"
      },
      "source": [
        "    * For Example to understand how the decision tree is been created for certain model\n",
        "![decisionTreeclassifier.png](attachment:7564d82c-9d11-4500-8509-9d2f72670671.png)"
      ]
    },
    {
      "cell_type": "markdown",
      "id": "1ef6222f-2ef2-4fba-936d-d995da470422",
      "metadata": {
        "id": "1ef6222f-2ef2-4fba-936d-d995da470422"
      },
      "source": [
        "**Syntax of Decision Tree Classifier**\n",
        "          \n",
        "    1)DecisionTreeClassifier(criterion = 'entropy' , splitter = 'random')\n",
        "      1)criterion = 'entropy' : The function to measure the quality of a split.\n",
        "         About criterion =  entropy\n",
        "         \n",
        "               * he entropy criterion computes the Shannon entropy of the possible classes. It takes the class frequencies of the training data points that reached a given leaf as their probability.\n",
        "               \n",
        "      \n",
        "      2)splitter = 'random' : The strategy used to choose the split at each node. Supported strategies are “random” to choose the best random split.\n",
        "    "
      ]
    },
    {
      "cell_type": "code",
      "execution_count": null,
      "id": "678f686c-47b3-4662-a171-36d65bf77350",
      "metadata": {
        "id": "678f686c-47b3-4662-a171-36d65bf77350"
      },
      "outputs": [],
      "source": [
        "from sklearn.tree import DecisionTreeClassifier"
      ]
    },
    {
      "cell_type": "code",
      "execution_count": null,
      "id": "c8a7be5e-14e9-4967-8a8c-1df4efec1aa8",
      "metadata": {
        "id": "c8a7be5e-14e9-4967-8a8c-1df4efec1aa8"
      },
      "outputs": [],
      "source": [
        "DTC = DecisionTreeClassifier(criterion = 'entropy' , splitter = 'random')"
      ]
    },
    {
      "cell_type": "code",
      "execution_count": null,
      "id": "895e0ee6-34b2-4392-a637-12ea5b706002",
      "metadata": {
        "id": "895e0ee6-34b2-4392-a637-12ea5b706002",
        "outputId": "7aa7523a-562c-447e-8eff-cc1617a3954c"
      },
      "outputs": [
        {
          "data": {
            "text/html": [
              "<style>#sk-container-id-6 {color: black;background-color: white;}#sk-container-id-6 pre{padding: 0;}#sk-container-id-6 div.sk-toggleable {background-color: white;}#sk-container-id-6 label.sk-toggleable__label {cursor: pointer;display: block;width: 100%;margin-bottom: 0;padding: 0.3em;box-sizing: border-box;text-align: center;}#sk-container-id-6 label.sk-toggleable__label-arrow:before {content: \"▸\";float: left;margin-right: 0.25em;color: #696969;}#sk-container-id-6 label.sk-toggleable__label-arrow:hover:before {color: black;}#sk-container-id-6 div.sk-estimator:hover label.sk-toggleable__label-arrow:before {color: black;}#sk-container-id-6 div.sk-toggleable__content {max-height: 0;max-width: 0;overflow: hidden;text-align: left;background-color: #f0f8ff;}#sk-container-id-6 div.sk-toggleable__content pre {margin: 0.2em;color: black;border-radius: 0.25em;background-color: #f0f8ff;}#sk-container-id-6 input.sk-toggleable__control:checked~div.sk-toggleable__content {max-height: 200px;max-width: 100%;overflow: auto;}#sk-container-id-6 input.sk-toggleable__control:checked~label.sk-toggleable__label-arrow:before {content: \"▾\";}#sk-container-id-6 div.sk-estimator input.sk-toggleable__control:checked~label.sk-toggleable__label {background-color: #d4ebff;}#sk-container-id-6 div.sk-label input.sk-toggleable__control:checked~label.sk-toggleable__label {background-color: #d4ebff;}#sk-container-id-6 input.sk-hidden--visually {border: 0;clip: rect(1px 1px 1px 1px);clip: rect(1px, 1px, 1px, 1px);height: 1px;margin: -1px;overflow: hidden;padding: 0;position: absolute;width: 1px;}#sk-container-id-6 div.sk-estimator {font-family: monospace;background-color: #f0f8ff;border: 1px dotted black;border-radius: 0.25em;box-sizing: border-box;margin-bottom: 0.5em;}#sk-container-id-6 div.sk-estimator:hover {background-color: #d4ebff;}#sk-container-id-6 div.sk-parallel-item::after {content: \"\";width: 100%;border-bottom: 1px solid gray;flex-grow: 1;}#sk-container-id-6 div.sk-label:hover label.sk-toggleable__label {background-color: #d4ebff;}#sk-container-id-6 div.sk-serial::before {content: \"\";position: absolute;border-left: 1px solid gray;box-sizing: border-box;top: 0;bottom: 0;left: 50%;z-index: 0;}#sk-container-id-6 div.sk-serial {display: flex;flex-direction: column;align-items: center;background-color: white;padding-right: 0.2em;padding-left: 0.2em;position: relative;}#sk-container-id-6 div.sk-item {position: relative;z-index: 1;}#sk-container-id-6 div.sk-parallel {display: flex;align-items: stretch;justify-content: center;background-color: white;position: relative;}#sk-container-id-6 div.sk-item::before, #sk-container-id-6 div.sk-parallel-item::before {content: \"\";position: absolute;border-left: 1px solid gray;box-sizing: border-box;top: 0;bottom: 0;left: 50%;z-index: -1;}#sk-container-id-6 div.sk-parallel-item {display: flex;flex-direction: column;z-index: 1;position: relative;background-color: white;}#sk-container-id-6 div.sk-parallel-item:first-child::after {align-self: flex-end;width: 50%;}#sk-container-id-6 div.sk-parallel-item:last-child::after {align-self: flex-start;width: 50%;}#sk-container-id-6 div.sk-parallel-item:only-child::after {width: 0;}#sk-container-id-6 div.sk-dashed-wrapped {border: 1px dashed gray;margin: 0 0.4em 0.5em 0.4em;box-sizing: border-box;padding-bottom: 0.4em;background-color: white;}#sk-container-id-6 div.sk-label label {font-family: monospace;font-weight: bold;display: inline-block;line-height: 1.2em;}#sk-container-id-6 div.sk-label-container {text-align: center;}#sk-container-id-6 div.sk-container {/* jupyter's `normalize.less` sets `[hidden] { display: none; }` but bootstrap.min.css set `[hidden] { display: none !important; }` so we also need the `!important` here to be able to override the default hidden behavior on the sphinx rendered scikit-learn.org. See: https://github.com/scikit-learn/scikit-learn/issues/21755 */display: inline-block !important;position: relative;}#sk-container-id-6 div.sk-text-repr-fallback {display: none;}</style><div id=\"sk-container-id-6\" class=\"sk-top-container\"><div class=\"sk-text-repr-fallback\"><pre>DecisionTreeClassifier(criterion=&#x27;entropy&#x27;, splitter=&#x27;random&#x27;)</pre><b>In a Jupyter environment, please rerun this cell to show the HTML representation or trust the notebook. <br />On GitHub, the HTML representation is unable to render, please try loading this page with nbviewer.org.</b></div><div class=\"sk-container\" hidden><div class=\"sk-item\"><div class=\"sk-estimator sk-toggleable\"><input class=\"sk-toggleable__control sk-hidden--visually\" id=\"sk-estimator-id-6\" type=\"checkbox\" checked><label for=\"sk-estimator-id-6\" class=\"sk-toggleable__label sk-toggleable__label-arrow\">DecisionTreeClassifier</label><div class=\"sk-toggleable__content\"><pre>DecisionTreeClassifier(criterion=&#x27;entropy&#x27;, splitter=&#x27;random&#x27;)</pre></div></div></div></div></div>"
            ],
            "text/plain": [
              "DecisionTreeClassifier(criterion='entropy', splitter='random')"
            ]
          },
          "execution_count": 57,
          "metadata": {},
          "output_type": "execute_result"
        }
      ],
      "source": [
        "DTC.fit(x_train , y_train)"
      ]
    },
    {
      "cell_type": "code",
      "execution_count": null,
      "id": "3eafb533-4e97-467b-ba94-daca71e7d7be",
      "metadata": {
        "id": "3eafb533-4e97-467b-ba94-daca71e7d7be",
        "outputId": "407119fd-dc66-4f06-ff0d-a1dbe184abf5"
      },
      "outputs": [
        {
          "name": "stdout",
          "output_type": "stream",
          "text": [
            "The Accuracy Score of the Decision Tree Classifier 0.99 % out of 1.0"
          ]
        }
      ],
      "source": [
        "scoreDecisionTreeClassifier = accuracy_score(y_test , DTC.predict(x_test))\n",
        "print(\"The Accuracy Score of the Decision Tree Classifier %.2f \" % scoreDecisionTreeClassifier,end = \"% out of 1.0\")"
      ]
    },
    {
      "cell_type": "code",
      "execution_count": null,
      "id": "73232fc6-f110-494b-b797-3257ceca3a48",
      "metadata": {
        "id": "73232fc6-f110-494b-b797-3257ceca3a48",
        "outputId": "6257f7e5-2402-4d17-a733-83328449cb10"
      },
      "outputs": [
        {
          "name": "stdout",
          "output_type": "stream",
          "text": [
            "              precision    recall  f1-score   support\n",
            "\n",
            "           0       0.99      0.99      0.99      9383\n",
            "           1       0.99      0.99      0.99      8577\n",
            "\n",
            "    accuracy                           0.99     17960\n",
            "   macro avg       0.99      0.99      0.99     17960\n",
            "weighted avg       0.99      0.99      0.99     17960\n",
            "\n"
          ]
        }
      ],
      "source": [
        "print(classification_report(DTC.predict(x_test) , y_test))"
      ]
    },
    {
      "cell_type": "code",
      "execution_count": null,
      "id": "338052cd-f020-4c62-af88-fc7858d31cf2",
      "metadata": {
        "id": "338052cd-f020-4c62-af88-fc7858d31cf2",
        "outputId": "9d6a1d35-a2e2-4b6a-a7ef-ac927fdb3209"
      },
      "outputs": [
        {
          "name": "stdout",
          "output_type": "stream",
          "text": [
            "[[9324.   61.]\n",
            " [  59. 8516.]]\n"
          ]
        }
      ],
      "source": [
        "dtc_pred = (DTC.predict(x_test) > 0.5).astype(int)\n",
        "\n",
        "num_classes = 2\n",
        "confusion_matrixDTC = np.zeros((num_classes, num_classes))\n",
        "\n",
        "for true, predict in zip(y_test, DTC.predict(x_test)):\n",
        "    confusion_matrixDTC[true][predict] += 1\n",
        "\n",
        "print(confusion_matrixDTC)"
      ]
    }
  ],
  "metadata": {
    "kernelspec": {
      "display_name": "Python 3 (Intel® oneAPI 2023.1)",
      "language": "python",
      "name": "c009-intel_distribution_of_python_3_oneapi-beta05-python"
    },
    "language_info": {
      "codemirror_mode": {
        "name": "ipython",
        "version": 3
      },
      "file_extension": ".py",
      "mimetype": "text/x-python",
      "name": "python",
      "nbconvert_exporter": "python",
      "pygments_lexer": "ipython3",
      "version": "3.9.16"
    },
    "colab": {
      "provenance": []
    }
  },
  "nbformat": 4,
  "nbformat_minor": 5
}