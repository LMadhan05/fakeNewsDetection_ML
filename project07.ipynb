{
  "cells": [
    {
      "cell_type": "markdown",
      "id": "154613e8-aad0-48b8-b48a-336da6f064ed",
      "metadata": {
        "id": "154613e8-aad0-48b8-b48a-336da6f064ed"
      },
      "source": [
        "<font size =\"4\">**Importing all the libraries**</font>"
      ]
    },
    {
      "cell_type": "code",
      "execution_count": null,
      "id": "2cd6f8d3-9ed7-4241-afc0-f277c177a2d7",
      "metadata": {
        "colab": {
          "base_uri": "https://localhost:8080/"
        },
        "id": "2cd6f8d3-9ed7-4241-afc0-f277c177a2d7",
        "outputId": "7a1baaa0-5bb8-42c8-c106-9715a6347a49"
      },
      "outputs": [
        {
          "output_type": "stream",
          "name": "stderr",
          "text": [
            "[nltk_data] Downloading package punkt to /root/nltk_data...\n",
            "[nltk_data]   Package punkt is already up-to-date!\n",
            "[nltk_data] Downloading package stopwords to /root/nltk_data...\n",
            "[nltk_data]   Package stopwords is already up-to-date!\n"
          ]
        }
      ],
      "source": [
        "import pandas as pd\n",
        "import seaborn as sns\n",
        "import numpy as np\n",
        "import string\n",
        "import matplotlib.pyplot as plt\n",
        "from tqdm import tqdm\n",
        "import re\n",
        "import nltk\n",
        "import os\n",
        "nltk.download('punkt')\n",
        "nltk.download('stopwords')\n",
        "from nltk.tokenize import word_tokenize\n",
        "from sklearn.model_selection import train_test_split\n",
        "from sklearn.metrics import accuracy_score\n",
        "from sklearn.linear_model import LogisticRegression\n",
        "from sklearn.metrics import classification_report\n",
        "from sklearn import neighbors , metrics , svm\n"
      ]
    },
    {
      "cell_type": "markdown",
      "id": "fa79260e-499f-4c75-8738-dc7ccae00ece",
      "metadata": {
        "id": "fa79260e-499f-4c75-8738-dc7ccae00ece"
      },
      "source": [
        "<font size =\"4\">**Downloading the dataset and extracting it to the appropriate data directory.**</font>"
      ]
    },
    {
      "cell_type": "code",
      "execution_count": null,
      "id": "d5ea95d6-479f-4d44-b030-e01765f15bc3",
      "metadata": {
        "id": "d5ea95d6-479f-4d44-b030-e01765f15bc3",
        "colab": {
          "base_uri": "https://localhost:8080/"
        },
        "outputId": "c88c7540-e982-449d-a57e-41c5bd9f2a89"
      },
      "outputs": [
        {
          "output_type": "stream",
          "name": "stdout",
          "text": [
            "--2023-06-05 13:19:19--  https://onlineacademiccommunity.uvic.ca/isot/wp-content/uploads/sites/7295/2023/03/News-_dataset.zip\n",
            "Resolving onlineacademiccommunity.uvic.ca (onlineacademiccommunity.uvic.ca)... 142.104.197.46\n",
            "Connecting to onlineacademiccommunity.uvic.ca (onlineacademiccommunity.uvic.ca)|142.104.197.46|:443... connected.\n",
            "HTTP request sent, awaiting response... 200 OK\n",
            "Length: 43106824 (41M) [application/zip]\n",
            "Saving to: ‘data/News-_dataset.zip’\n",
            "\n",
            "News-_dataset.zip   100%[===================>]  41.11M  1.83MB/s    in 24s     \n",
            "\n",
            "2023-06-05 13:19:44 (1.73 MB/s) - ‘data/News-_dataset.zip’ saved [43106824/43106824]\n",
            "\n",
            "Archive:  data/News-_dataset.zip\n",
            "  inflating: data/Fake.csv           \n",
            "  inflating: data/True.csv           \n"
          ]
        }
      ],
      "source": [
        "data_directory = 'data/'\n",
        "if not os.path.exists(data_directory):\n",
        "    !mkdir data/\n",
        "    !wget https://onlineacademiccommunity.uvic.ca/isot/wp-content/uploads/sites/7295/2023/03/News-_dataset.zip --directory-prefix=data/\n",
        "    !unzip data/News-_dataset.zip -d data/"
      ]
    },
    {
      "cell_type": "markdown",
      "id": "399e8186-b94c-4f12-ae71-dd37341bb3ca",
      "metadata": {
        "id": "399e8186-b94c-4f12-ae71-dd37341bb3ca"
      },
      "source": [
        "<font size=\"4\">**Read the data csv file**</font>"
      ]
    },
    {
      "cell_type": "code",
      "execution_count": null,
      "id": "885fb660-a2c1-4cd8-b6d6-43bff7bab973",
      "metadata": {
        "id": "885fb660-a2c1-4cd8-b6d6-43bff7bab973"
      },
      "outputs": [],
      "source": [
        "fake_data = pd.read_csv('data/Fake.csv')\n",
        "true_data = pd.read_csv('data/True.csv')"
      ]
    },
    {
      "cell_type": "markdown",
      "id": "e63f9f67-ac53-46cc-abc8-0d14b048fb2a",
      "metadata": {
        "id": "e63f9f67-ac53-46cc-abc8-0d14b048fb2a"
      },
      "source": [
        "Assigning Classes to the Dataset"
      ]
    },
    {
      "cell_type": "code",
      "execution_count": null,
      "id": "13c6957f-797b-4fe2-8b2a-daa10f157765",
      "metadata": {
        "id": "13c6957f-797b-4fe2-8b2a-daa10f157765"
      },
      "outputs": [],
      "source": [
        "true_data[\"label\"] = 1\n",
        "fake_data[\"label\"] = 0"
      ]
    },
    {
      "cell_type": "markdown",
      "id": "5737d553-e902-4c2e-8e07-152bd39758b6",
      "metadata": {
        "id": "5737d553-e902-4c2e-8e07-152bd39758b6"
      },
      "source": [
        "Merging Both the Dataset"
      ]
    },
    {
      "cell_type": "code",
      "execution_count": null,
      "id": "c9fde258-6357-4c61-b65a-1511ef8d9f5f",
      "metadata": {
        "id": "c9fde258-6357-4c61-b65a-1511ef8d9f5f"
      },
      "outputs": [],
      "source": [
        "data = pd.concat([true_data, fake_data], axis=0)"
      ]
    },
    {
      "cell_type": "markdown",
      "id": "a43f1432-f622-4f55-814b-beba9d486fdb",
      "metadata": {
        "id": "a43f1432-f622-4f55-814b-beba9d486fdb"
      },
      "source": [
        "Visualization of the text data based on subject column"
      ]
    },
    {
      "cell_type": "code",
      "execution_count": null,
      "id": "934fe91d-e4ce-4a1d-b31f-1baf6d9a912c",
      "metadata": {
        "colab": {
          "base_uri": "https://localhost:8080/",
          "height": 662
        },
        "id": "934fe91d-e4ce-4a1d-b31f-1baf6d9a912c",
        "outputId": "d9900bbe-37a0-47a4-b71b-be5bc3707732"
      },
      "outputs": [
        {
          "output_type": "execute_result",
          "data": {
            "text/plain": [
              "[Text(0, 0, 'politicsNews'),\n",
              " Text(1, 0, 'worldnews'),\n",
              " Text(2, 0, 'News'),\n",
              " Text(3, 0, 'politics'),\n",
              " Text(4, 0, 'Government News'),\n",
              " Text(5, 0, 'left-news'),\n",
              " Text(6, 0, 'US_News'),\n",
              " Text(7, 0, 'Middle-east')]"
            ]
          },
          "metadata": {},
          "execution_count": 112
        },
        {
          "output_type": "display_data",
          "data": {
            "text/plain": [
              "<Figure size 600x400 with 1 Axes>"
            ],
            "image/png": "[encoded data removed]"
          },
          "metadata": {}
        }
      ],
      "source": [
        "plt.figure(figsize = (6,4))\n",
        "sns.set(style = \"whitegrid\",font_scale = 1.0)\n",
        "chart = sns.countplot(x = \"subject\", data = data)\n",
        "chart.set_xticklabels(chart.get_xticklabels(),rotation=90)"
      ]
    },
    {
      "cell_type": "markdown",
      "id": "8c238285-6127-49bd-a2a6-1500532fd0d5",
      "metadata": {
        "id": "8c238285-6127-49bd-a2a6-1500532fd0d5"
      },
      "source": [
        "<font size=\"4\">**Data preprocessing**</font>"
      ]
    },
    {
      "cell_type": "code",
      "execution_count": null,
      "id": "9d8ede7a-b883-4d8e-8f9b-94fba6206b98",
      "metadata": {
        "id": "9d8ede7a-b883-4d8e-8f9b-94fba6206b98"
      },
      "outputs": [],
      "source": [
        "data['text'] = data['title'] +' '+data['text']\n",
        "# Either you could data.drop[\"column names\"] or del data[\"column names\"]\n",
        "del data['title']\n",
        "del data['subject']\n",
        "del data['date']"
      ]
    },
    {
      "cell_type": "markdown",
      "id": "4652748f-4c28-43e0-ab74-68acb431d180",
      "metadata": {
        "id": "4652748f-4c28-43e0-ab74-68acb431d180"
      },
      "source": [
        "As the title, author column will not going to be helpful in identification of the news. So, we can drop these column."
      ]
    },
    {
      "cell_type": "code",
      "execution_count": null,
      "id": "4833cc13-bfbe-4447-b4b7-f4253170b193",
      "metadata": {
        "colab": {
          "base_uri": "https://localhost:8080/"
        },
        "id": "4833cc13-bfbe-4447-b4b7-f4253170b193",
        "outputId": "bd6b6f00-61f1-4e02-ee1d-0ffaddd06ecd"
      },
      "outputs": [
        {
          "output_type": "execute_result",
          "data": {
            "text/plain": [
              "(44898, 2)"
            ]
          },
          "metadata": {},
          "execution_count": 8
        }
      ],
      "source": [
        "data.shape"
      ]
    },
    {
      "cell_type": "markdown",
      "id": "74ed0eb9-3afb-43c5-b0a3-1a13dc63f239",
      "metadata": {
        "id": "74ed0eb9-3afb-43c5-b0a3-1a13dc63f239"
      },
      "source": [
        "Check if there is any null value (If so, then we will drop those rows)"
      ]
    },
    {
      "cell_type": "code",
      "execution_count": null,
      "id": "32e91398-a10c-4ce9-a0b8-f1331e6482fc",
      "metadata": {
        "colab": {
          "base_uri": "https://localhost:8080/"
        },
        "id": "32e91398-a10c-4ce9-a0b8-f1331e6482fc",
        "outputId": "32e2d479-025f-4a99-a4a5-090ccda1f12c"
      },
      "outputs": [
        {
          "output_type": "execute_result",
          "data": {
            "text/plain": [
              "text     0\n",
              "label    0\n",
              "dtype: int64"
            ]
          },
          "metadata": {},
          "execution_count": 9
        }
      ],
      "source": [
        "data.isnull().sum() # get the count of missing/NULL values for each column. if present remove missing values"
      ]
    },
    {
      "cell_type": "markdown",
      "id": "fc7c10c8-bca7-4fdd-971e-ee2e9276ff1f",
      "metadata": {
        "id": "fc7c10c8-bca7-4fdd-971e-ee2e9276ff1f"
      },
      "source": [
        " Now we have to shuffle the dataset to prevent the model to get bias"
      ]
    },
    {
      "cell_type": "code",
      "execution_count": null,
      "id": "60329ea8-7192-4c8d-aab6-a89fd7215f8d",
      "metadata": {
        "colab": {
          "base_uri": "https://localhost:8080/",
          "height": 206
        },
        "id": "60329ea8-7192-4c8d-aab6-a89fd7215f8d",
        "outputId": "9d1c14a5-3011-431d-c1fa-c3f77218e183"
      },
      "outputs": [
        {
          "output_type": "execute_result",
          "data": {
            "text/plain": [
              "                                                text  label\n",
              "0  Factbox: Trump on Twitter (July 28) - Obamacar...      1\n",
              "1   Coretta Scott King’s Daughter Speaks Up And A...      0\n",
              "2  SORRY NANCY! Here’s PROOF Democrats Have NOTHI...      0\n",
              "3   WATCH: Fox News Host Smacks Down Trump Suppor...      0\n",
              "4   Target Just Made A Major Move That’s Going To...      0"
            ],
            "text/html": [
              "\n",
              "  <div id=\"df-9b012adb-0714-401c-b4b3-4528239cb68b\">\n",
              "    <div class=\"colab-df-container\">\n",
              "      <div>\n",
              "<style scoped>\n",
              "    .dataframe tbody tr th:only-of-type {\n",
              "        vertical-align: middle;\n",
              "    }\n",
              "\n",
              "    .dataframe tbody tr th {\n",
              "        vertical-align: top;\n",
              "    }\n",
              "\n",
              "    .dataframe thead th {\n",
              "        text-align: right;\n",
              "    }\n",
              "</style>\n",
              "<table border=\"1\" class=\"dataframe\">\n",
              "  <thead>\n",
              "    <tr style=\"text-align: right;\">\n",
              "      <th></th>\n",
              "      <th>text</th>\n",
              "      <th>label</th>\n",
              "    </tr>\n",
              "  </thead>\n",
              "  <tbody>\n",
              "    <tr>\n",
              "      <th>0</th>\n",
              "      <td>Factbox: Trump on Twitter (July 28) - Obamacar...</td>\n",
              "      <td>1</td>\n",
              "    </tr>\n",
              "    <tr>\n",
              "      <th>1</th>\n",
              "      <td>Coretta Scott King’s Daughter Speaks Up And A...</td>\n",
              "      <td>0</td>\n",
              "    </tr>\n",
              "    <tr>\n",
              "      <th>2</th>\n",
              "      <td>SORRY NANCY! Here’s PROOF Democrats Have NOTHI...</td>\n",
              "      <td>0</td>\n",
              "    </tr>\n",
              "    <tr>\n",
              "      <th>3</th>\n",
              "      <td>WATCH: Fox News Host Smacks Down Trump Suppor...</td>\n",
              "      <td>0</td>\n",
              "    </tr>\n",
              "    <tr>\n",
              "      <th>4</th>\n",
              "      <td>Target Just Made A Major Move That’s Going To...</td>\n",
              "      <td>0</td>\n",
              "    </tr>\n",
              "  </tbody>\n",
              "</table>\n",
              "</div>\n",
              "      <button class=\"colab-df-convert\" onclick=\"convertToInteractive('df-9b012adb-0714-401c-b4b3-4528239cb68b')\"\n",
              "              title=\"Convert this dataframe to an interactive table.\"\n",
              "              style=\"display:none;\">\n",
              "        \n",
              "  <svg xmlns=\"http://www.w3.org/2000/svg\" height=\"24px\"viewBox=\"0 0 24 24\"\n",
              "       width=\"24px\">\n",
              "    <path d=\"M0 0h24v24H0V0z\" fill=\"none\"/>\n",
              "    <path d=\"M18.56 5.44l.94 2.06.94-2.06 2.06-.94-2.06-.94-.94-2.06-.94 2.06-2.06.94zm-11 1L8.5 8.5l.94-2.06 2.06-.94-2.06-.94L8.5 2.5l-.94 2.06-2.06.94zm10 10l.94 2.06.94-2.06 2.06-.94-2.06-.94-.94-2.06-.94 2.06-2.06.94z\"/><path d=\"M17.41 7.96l-1.37-1.37c-.4-.4-.92-.59-1.43-.59-.52 0-1.04.2-1.43.59L10.3 9.45l-7.72 7.72c-.78.78-.78 2.05 0 2.83L4 21.41c.39.39.9.59 1.41.59.51 0 1.02-.2 1.41-.59l7.78-7.78 2.81-2.81c.8-.78.8-2.07 0-2.86zM5.41 20L4 18.59l7.72-7.72 1.47 1.35L5.41 20z\"/>\n",
              "  </svg>\n",
              "      </button>\n",
              "      \n",
              "  <style>\n",
              "    .colab-df-container {\n",
              "      display:flex;\n",
              "      flex-wrap:wrap;\n",
              "      gap: 12px;\n",
              "    }\n",
              "\n",
              "    .colab-df-convert {\n",
              "      background-color: #E8F0FE;\n",
              "      border: none;\n",
              "      border-radius: 50%;\n",
              "      cursor: pointer;\n",
              "      display: none;\n",
              "      fill: #1967D2;\n",
              "      height: 32px;\n",
              "      padding: 0 0 0 0;\n",
              "      width: 32px;\n",
              "    }\n",
              "\n",
              "    .colab-df-convert:hover {\n",
              "      background-color: #E2EBFA;\n",
              "      box-shadow: 0px 1px 2px rgba(60, 64, 67, 0.3), 0px 1px 3px 1px rgba(60, 64, 67, 0.15);\n",
              "      fill: #174EA6;\n",
              "    }\n",
              "\n",
              "    [theme=dark] .colab-df-convert {\n",
              "      background-color: #3B4455;\n",
              "      fill: #D2E3FC;\n",
              "    }\n",
              "\n",
              "    [theme=dark] .colab-df-convert:hover {\n",
              "      background-color: #434B5C;\n",
              "      box-shadow: 0px 1px 3px 1px rgba(0, 0, 0, 0.15);\n",
              "      filter: drop-shadow(0px 1px 2px rgba(0, 0, 0, 0.3));\n",
              "      fill: #FFFFFF;\n",
              "    }\n",
              "  </style>\n",
              "\n",
              "      <script>\n",
              "        const buttonEl =\n",
              "          document.querySelector('#df-9b012adb-0714-401c-b4b3-4528239cb68b button.colab-df-convert');\n",
              "        buttonEl.style.display =\n",
              "          google.colab.kernel.accessAllowed ? 'block' : 'none';\n",
              "\n",
              "        async function convertToInteractive(key) {\n",
              "          const element = document.querySelector('#df-9b012adb-0714-401c-b4b3-4528239cb68b');\n",
              "          const dataTable =\n",
              "            await google.colab.kernel.invokeFunction('convertToInteractive',\n",
              "                                                     [key], {});\n",
              "          if (!dataTable) return;\n",
              "\n",
              "          const docLinkHtml = 'Like what you see? Visit the ' +\n",
              "            '<a target=\"_blank\" href=https://colab.research.google.com/notebooks/data_table.ipynb>data table notebook</a>'\n",
              "            + ' to learn more about interactive tables.';\n",
              "          element.innerHTML = '';\n",
              "          dataTable['output_type'] = 'display_data';\n",
              "          await google.colab.output.renderOutput(dataTable, element);\n",
              "          const docLink = document.createElement('div');\n",
              "          docLink.innerHTML = docLinkHtml;\n",
              "          element.appendChild(docLink);\n",
              "        }\n",
              "      </script>\n",
              "    </div>\n",
              "  </div>\n",
              "  "
            ]
          },
          "metadata": {},
          "execution_count": 10
        }
      ],
      "source": [
        "#Shuffling the data by sampling it randomly, then resetting the index and dropping the previous index column\n",
        "data = data.sample(frac=1).reset_index(drop=True)\n",
        "data.head()"
      ]
    },
    {
      "cell_type": "markdown",
      "id": "600d4362-f13e-4b89-a2be-8fd43a3e899f",
      "metadata": {
        "id": "600d4362-f13e-4b89-a2be-8fd43a3e899f"
      },
      "source": [
        "Now Let’s explore the unique values in the each category using below code."
      ]
    },
    {
      "cell_type": "code",
      "execution_count": null,
      "id": "0d61e19e-af3b-4bd7-899a-42ad1a711df7",
      "metadata": {
        "colab": {
          "base_uri": "https://localhost:8080/",
          "height": 466
        },
        "id": "0d61e19e-af3b-4bd7-899a-42ad1a711df7",
        "outputId": "565d714f-0c29-40d3-bf6a-d9c95dca62e3"
      },
      "outputs": [
        {
          "output_type": "execute_result",
          "data": {
            "text/plain": [
              "<Axes: xlabel='label', ylabel='count'>"
            ]
          },
          "metadata": {},
          "execution_count": 11
        },
        {
          "output_type": "display_data",
          "data": {
            "text/plain": [
              "<Figure size 640x480 with 1 Axes>"
            ],
            "image/png": "[encoded data removed]"
          },
          "metadata": {}
        }
      ],
      "source": [
        "sns.countplot(data=data,\n",
        "              x='label',\n",
        "              order=data['label'].value_counts().index)"
      ]
    },
    {
      "cell_type": "code",
      "source": [
        "data['text']"
      ],
      "metadata": {
        "colab": {
          "base_uri": "https://localhost:8080/"
        },
        "id": "4qpFbakGEdka",
        "outputId": "aed63336-b03f-4698-c68b-57f8f12488f4"
      },
      "id": "4qpFbakGEdka",
      "execution_count": null,
      "outputs": [
        {
          "output_type": "execute_result",
          "data": {
            "text/plain": [
              "0        Factbox: Trump on Twitter (July 28) - Obamacar...\n",
              "1         Coretta Scott King’s Daughter Speaks Up And A...\n",
              "2        SORRY NANCY! Here’s PROOF Democrats Have NOTHI...\n",
              "3         WATCH: Fox News Host Smacks Down Trump Suppor...\n",
              "4         Target Just Made A Major Move That’s Going To...\n",
              "                               ...                        \n",
              "44893    Factbox: Trump to meet with Oklahoma governor,...\n",
              "44894    REMEMBER 24/7 Media Coverage Of Bush’s “Hurric...\n",
              "44895    12 MUSLIM MIGRANTS GANG RAPE 13 YR OLD GIRL…Mu...\n",
              "44896    LAUGHABLE! HILLARY DEFENDS Maxine “James Brown...\n",
              "44897    U.S. senator raises questions about hospital o...\n",
              "Name: text, Length: 44898, dtype: object"
            ]
          },
          "metadata": {},
          "execution_count": 12
        }
      ]
    },
    {
      "cell_type": "markdown",
      "id": "9663eb04-37cd-49fd-bfd2-997dad697a3e",
      "metadata": {
        "id": "9663eb04-37cd-49fd-bfd2-997dad697a3e"
      },
      "source": [
        "<font size=\"4\">**Data Cleaning**</font>"
      ]
    },
    {
      "cell_type": "markdown",
      "id": "945c6dd0-a316-4c47-92bc-2339505de433",
      "metadata": {
        "id": "945c6dd0-a316-4c47-92bc-2339505de433"
      },
      "source": [
        "Once we have all the required modules, we can create a function name preprocess text. This function will preprocess all the data given as input."
      ]
    },
    {
      "cell_type": "code",
      "execution_count": null,
      "id": "3e447bc1-4def-4ca3-89b3-0ce11ee82bd0",
      "metadata": {
        "colab": {
          "base_uri": "https://localhost:8080/",
          "height": 676
        },
        "id": "3e447bc1-4def-4ca3-89b3-0ce11ee82bd0",
        "outputId": "4b5070eb-ecba-4147-fafb-726af949cfad"
      },
      "outputs": [
        {
          "output_type": "execute_result",
          "data": {
            "text/plain": [
              "                                                 text  label\n",
              "0   factbox  trump on twitter  july     obamacare ...      1\n",
              "1    coretta scott king s daughter speaks up and a...      0\n",
              "2   sorry nancy  here s proof democrats have nothi...      0\n",
              "3    watch  fox news host smacks down trump suppor...      0\n",
              "4    target just made a major move that s going to...      0\n",
              "5   mexico s meade to seek nomination of ruling pr...      1\n",
              "6   syrian muslim immigrant hairdresser slits fema...      0\n",
              "7    trump convention delegate just indicted on se...      0\n",
              "8   congressman wants homeland security to address...      1\n",
              "9    marcobot malfunction  new data shows rubio s ...      0\n",
              "10  which states are americans are moving from  wh...      0\n",
              "11  former guerrilla coalition gets mandate to for...      1\n",
              "12  new russian envoy describes  warm  meeting wit...      1\n",
              "13  dingbat maxine waters tells islamic society re...      0\n",
              "14  congress is about to deal a knock out punch to...      0\n",
              "15  south africa s  female  olympian favored to wi...      0\n",
              "16  busted   aarp caught using subliminal message ...      0\n",
              "17  priceless  race baiter john lewis bombarded wi...      0\n",
              "18  hungary summons u s  envoy over media funding ...      1\n",
              "19  it s all the rage  liberal writer decides to c...      0"
            ],
            "text/html": [
              "\n",
              "  <div id=\"df-73dfe2d6-509e-4aa9-bb10-05fc00352fa1\">\n",
              "    <div class=\"colab-df-container\">\n",
              "      <div>\n",
              "<style scoped>\n",
              "    .dataframe tbody tr th:only-of-type {\n",
              "        vertical-align: middle;\n",
              "    }\n",
              "\n",
              "    .dataframe tbody tr th {\n",
              "        vertical-align: top;\n",
              "    }\n",
              "\n",
              "    .dataframe thead th {\n",
              "        text-align: right;\n",
              "    }\n",
              "</style>\n",
              "<table border=\"1\" class=\"dataframe\">\n",
              "  <thead>\n",
              "    <tr style=\"text-align: right;\">\n",
              "      <th></th>\n",
              "      <th>text</th>\n",
              "      <th>label</th>\n",
              "    </tr>\n",
              "  </thead>\n",
              "  <tbody>\n",
              "    <tr>\n",
              "      <th>0</th>\n",
              "      <td>factbox  trump on twitter  july     obamacare ...</td>\n",
              "      <td>1</td>\n",
              "    </tr>\n",
              "    <tr>\n",
              "      <th>1</th>\n",
              "      <td>coretta scott king s daughter speaks up and a...</td>\n",
              "      <td>0</td>\n",
              "    </tr>\n",
              "    <tr>\n",
              "      <th>2</th>\n",
              "      <td>sorry nancy  here s proof democrats have nothi...</td>\n",
              "      <td>0</td>\n",
              "    </tr>\n",
              "    <tr>\n",
              "      <th>3</th>\n",
              "      <td>watch  fox news host smacks down trump suppor...</td>\n",
              "      <td>0</td>\n",
              "    </tr>\n",
              "    <tr>\n",
              "      <th>4</th>\n",
              "      <td>target just made a major move that s going to...</td>\n",
              "      <td>0</td>\n",
              "    </tr>\n",
              "    <tr>\n",
              "      <th>5</th>\n",
              "      <td>mexico s meade to seek nomination of ruling pr...</td>\n",
              "      <td>1</td>\n",
              "    </tr>\n",
              "    <tr>\n",
              "      <th>6</th>\n",
              "      <td>syrian muslim immigrant hairdresser slits fema...</td>\n",
              "      <td>0</td>\n",
              "    </tr>\n",
              "    <tr>\n",
              "      <th>7</th>\n",
              "      <td>trump convention delegate just indicted on se...</td>\n",
              "      <td>0</td>\n",
              "    </tr>\n",
              "    <tr>\n",
              "      <th>8</th>\n",
              "      <td>congressman wants homeland security to address...</td>\n",
              "      <td>1</td>\n",
              "    </tr>\n",
              "    <tr>\n",
              "      <th>9</th>\n",
              "      <td>marcobot malfunction  new data shows rubio s ...</td>\n",
              "      <td>0</td>\n",
              "    </tr>\n",
              "    <tr>\n",
              "      <th>10</th>\n",
              "      <td>which states are americans are moving from  wh...</td>\n",
              "      <td>0</td>\n",
              "    </tr>\n",
              "    <tr>\n",
              "      <th>11</th>\n",
              "      <td>former guerrilla coalition gets mandate to for...</td>\n",
              "      <td>1</td>\n",
              "    </tr>\n",
              "    <tr>\n",
              "      <th>12</th>\n",
              "      <td>new russian envoy describes  warm  meeting wit...</td>\n",
              "      <td>1</td>\n",
              "    </tr>\n",
              "    <tr>\n",
              "      <th>13</th>\n",
              "      <td>dingbat maxine waters tells islamic society re...</td>\n",
              "      <td>0</td>\n",
              "    </tr>\n",
              "    <tr>\n",
              "      <th>14</th>\n",
              "      <td>congress is about to deal a knock out punch to...</td>\n",
              "      <td>0</td>\n",
              "    </tr>\n",
              "    <tr>\n",
              "      <th>15</th>\n",
              "      <td>south africa s  female  olympian favored to wi...</td>\n",
              "      <td>0</td>\n",
              "    </tr>\n",
              "    <tr>\n",
              "      <th>16</th>\n",
              "      <td>busted   aarp caught using subliminal message ...</td>\n",
              "      <td>0</td>\n",
              "    </tr>\n",
              "    <tr>\n",
              "      <th>17</th>\n",
              "      <td>priceless  race baiter john lewis bombarded wi...</td>\n",
              "      <td>0</td>\n",
              "    </tr>\n",
              "    <tr>\n",
              "      <th>18</th>\n",
              "      <td>hungary summons u s  envoy over media funding ...</td>\n",
              "      <td>1</td>\n",
              "    </tr>\n",
              "    <tr>\n",
              "      <th>19</th>\n",
              "      <td>it s all the rage  liberal writer decides to c...</td>\n",
              "      <td>0</td>\n",
              "    </tr>\n",
              "  </tbody>\n",
              "</table>\n",
              "</div>\n",
              "      <button class=\"colab-df-convert\" onclick=\"convertToInteractive('df-73dfe2d6-509e-4aa9-bb10-05fc00352fa1')\"\n",
              "              title=\"Convert this dataframe to an interactive table.\"\n",
              "              style=\"display:none;\">\n",
              "        \n",
              "  <svg xmlns=\"http://www.w3.org/2000/svg\" height=\"24px\"viewBox=\"0 0 24 24\"\n",
              "       width=\"24px\">\n",
              "    <path d=\"M0 0h24v24H0V0z\" fill=\"none\"/>\n",
              "    <path d=\"M18.56 5.44l.94 2.06.94-2.06 2.06-.94-2.06-.94-.94-2.06-.94 2.06-2.06.94zm-11 1L8.5 8.5l.94-2.06 2.06-.94-2.06-.94L8.5 2.5l-.94 2.06-2.06.94zm10 10l.94 2.06.94-2.06 2.06-.94-2.06-.94-.94-2.06-.94 2.06-2.06.94z\"/><path d=\"M17.41 7.96l-1.37-1.37c-.4-.4-.92-.59-1.43-.59-.52 0-1.04.2-1.43.59L10.3 9.45l-7.72 7.72c-.78.78-.78 2.05 0 2.83L4 21.41c.39.39.9.59 1.41.59.51 0 1.02-.2 1.41-.59l7.78-7.78 2.81-2.81c.8-.78.8-2.07 0-2.86zM5.41 20L4 18.59l7.72-7.72 1.47 1.35L5.41 20z\"/>\n",
              "  </svg>\n",
              "      </button>\n",
              "      \n",
              "  <style>\n",
              "    .colab-df-container {\n",
              "      display:flex;\n",
              "      flex-wrap:wrap;\n",
              "      gap: 12px;\n",
              "    }\n",
              "\n",
              "    .colab-df-convert {\n",
              "      background-color: #E8F0FE;\n",
              "      border: none;\n",
              "      border-radius: 50%;\n",
              "      cursor: pointer;\n",
              "      display: none;\n",
              "      fill: #1967D2;\n",
              "      height: 32px;\n",
              "      padding: 0 0 0 0;\n",
              "      width: 32px;\n",
              "    }\n",
              "\n",
              "    .colab-df-convert:hover {\n",
              "      background-color: #E2EBFA;\n",
              "      box-shadow: 0px 1px 2px rgba(60, 64, 67, 0.3), 0px 1px 3px 1px rgba(60, 64, 67, 0.15);\n",
              "      fill: #174EA6;\n",
              "    }\n",
              "\n",
              "    [theme=dark] .colab-df-convert {\n",
              "      background-color: #3B4455;\n",
              "      fill: #D2E3FC;\n",
              "    }\n",
              "\n",
              "    [theme=dark] .colab-df-convert:hover {\n",
              "      background-color: #434B5C;\n",
              "      box-shadow: 0px 1px 3px 1px rgba(0, 0, 0, 0.15);\n",
              "      filter: drop-shadow(0px 1px 2px rgba(0, 0, 0, 0.3));\n",
              "      fill: #FFFFFF;\n",
              "    }\n",
              "  </style>\n",
              "\n",
              "      <script>\n",
              "        const buttonEl =\n",
              "          document.querySelector('#df-73dfe2d6-509e-4aa9-bb10-05fc00352fa1 button.colab-df-convert');\n",
              "        buttonEl.style.display =\n",
              "          google.colab.kernel.accessAllowed ? 'block' : 'none';\n",
              "\n",
              "        async function convertToInteractive(key) {\n",
              "          const element = document.querySelector('#df-73dfe2d6-509e-4aa9-bb10-05fc00352fa1');\n",
              "          const dataTable =\n",
              "            await google.colab.kernel.invokeFunction('convertToInteractive',\n",
              "                                                     [key], {});\n",
              "          if (!dataTable) return;\n",
              "\n",
              "          const docLinkHtml = 'Like what you see? Visit the ' +\n",
              "            '<a target=\"_blank\" href=https://colab.research.google.com/notebooks/data_table.ipynb>data table notebook</a>'\n",
              "            + ' to learn more about interactive tables.';\n",
              "          element.innerHTML = '';\n",
              "          dataTable['output_type'] = 'display_data';\n",
              "          await google.colab.output.renderOutput(dataTable, element);\n",
              "          const docLink = document.createElement('div');\n",
              "          docLink.innerHTML = docLinkHtml;\n",
              "          element.appendChild(docLink);\n",
              "        }\n",
              "      </script>\n",
              "    </div>\n",
              "  </div>\n",
              "  "
            ]
          },
          "metadata": {},
          "execution_count": 13
        }
      ],
      "source": [
        "def preprocess_text(text):\n",
        "\n",
        "  text = text.lower()\n",
        "  text = re.sub('\\[.*?\\]' , '' , text)\n",
        "  text = re.sub('\\\\W' , ' ' ,text)\n",
        "  text = re.sub('http?://\\S+|www\\.\\S+' , '' , text)\n",
        "  text = re.sub('<.*?>+' , '' , text)\n",
        "  text = re.sub('\\n' , '' , text)\n",
        "  text = re.sub('\\w*\\d\\w*' , '' , text)\n",
        "  \n",
        "  return text\n",
        "\n",
        "data['text'] = data['text'].apply(preprocess_text)\n",
        "data.head(20)"
      ]
    },
    {
      "cell_type": "markdown",
      "id": "57b30dbe-9ad1-425b-a27c-a222616a8b28",
      "metadata": {
        "id": "57b30dbe-9ad1-425b-a27c-a222616a8b28"
      },
      "source": [
        "<font size=\"4\">**Converting text into Vectors**</font>"
      ]
    },
    {
      "cell_type": "code",
      "execution_count": null,
      "id": "1660b5d8-c160-47c0-9a26-6471540ad6c4",
      "metadata": {
        "id": "1660b5d8-c160-47c0-9a26-6471540ad6c4",
        "colab": {
          "base_uri": "https://localhost:8080/"
        },
        "outputId": "26a47f6d-d54b-4e63-dcae-66b8108d16e6"
      },
      "outputs": [
        {
          "output_type": "stream",
          "name": "stdout",
          "text": [
            "  (0, 31050)\t1\n",
            "  (0, 96564)\t2\n",
            "  (0, 66889)\t1\n",
            "  (0, 97365)\t2\n",
            "  (0, 48322)\t1\n",
            "  (0, 66013)\t2\n",
            "  (0, 78495)\t3\n",
            "  (0, 40145)\t2\n",
            "  (0, 93690)\t7\n",
            "  (0, 33408)\t1\n",
            "  (0, 89251)\t2\n",
            "  (0, 102702)\t1\n",
            "  (0, 72582)\t1\n",
            "  (0, 94966)\t3\n",
            "  (0, 100467)\t1\n",
            "  (0, 728)\t1\n",
            "  (0, 66422)\t2\n",
            "  (0, 73286)\t1\n",
            "  (0, 25974)\t1\n",
            "  (0, 76563)\t2\n",
            "  (0, 3619)\t2\n",
            "  (0, 72730)\t1\n",
            "  (0, 67128)\t1\n",
            "  (0, 30708)\t1\n",
            "  (0, 4829)\t2\n",
            "  :\t:\n",
            "  (44897, 69416)\t2\n",
            "  (44897, 74016)\t2\n",
            "  (44897, 45472)\t1\n",
            "  (44897, 37601)\t4\n",
            "  (44897, 3209)\t1\n",
            "  (44897, 67111)\t5\n",
            "  (44897, 14537)\t1\n",
            "  (44897, 963)\t1\n",
            "  (44897, 58499)\t1\n",
            "  (44897, 65760)\t1\n",
            "  (44897, 75264)\t1\n",
            "  (44897, 77723)\t1\n",
            "  (44897, 57717)\t1\n",
            "  (44897, 40140)\t1\n",
            "  (44897, 88968)\t1\n",
            "  (44897, 97020)\t1\n",
            "  (44897, 70219)\t1\n",
            "  (44897, 22950)\t1\n",
            "  (44897, 8448)\t1\n",
            "  (44897, 99216)\t1\n",
            "  (44897, 98848)\t1\n",
            "  (44897, 42106)\t1\n",
            "  (44897, 739)\t1\n",
            "  (44897, 97785)\t9\n",
            "  (44897, 13202)\t1\n"
          ]
        }
      ],
      "source": [
        "#TODO: explore different vectorization available with sklearn.feature_extraction.text\n",
        "from sklearn.feature_extraction.text import CountVectorizer\n",
        "\n",
        "vector = CountVectorizer()\n",
        "x , y = data['text'] , data['label']\n",
        "x = vector.fit_transform(x)\n",
        "\n",
        "x_train , x_test , y_train , y_test = train_test_split(x ,y , test_size = 0.25)\n",
        "\n",
        "print(x)\n",
        "\n",
        "\n"
      ]
    },
    {
      "cell_type": "markdown",
      "id": "4bedd2b5-bc10-44f2-a254-7240d97998b6",
      "metadata": {
        "id": "4bedd2b5-bc10-44f2-a254-7240d97998b6"
      },
      "source": [
        "<font size=\"4\">**Model training, Evaluation, and Prediction**</font>"
      ]
    },
    {
      "cell_type": "code",
      "execution_count": null,
      "id": "be320ccb-91cc-4f16-beb6-af7bd1bb8cec",
      "metadata": {
        "id": "be320ccb-91cc-4f16-beb6-af7bd1bb8cec",
        "colab": {
          "base_uri": "https://localhost:8080/",
          "height": 213
        },
        "outputId": "e0b47505-cff7-4971-8bfe-979b0014cf3f"
      },
      "outputs": [
        {
          "output_type": "stream",
          "name": "stderr",
          "text": [
            "/usr/local/lib/python3.10/dist-packages/sklearn/linear_model/_logistic.py:458: ConvergenceWarning: lbfgs failed to converge (status=1):\n",
            "STOP: TOTAL NO. of ITERATIONS REACHED LIMIT.\n",
            "\n",
            "Increase the number of iterations (max_iter) or scale the data as shown in:\n",
            "    https://scikit-learn.org/stable/modules/preprocessing.html\n",
            "Please also refer to the documentation for alternative solver options:\n",
            "    https://scikit-learn.org/stable/modules/linear_model.html#logistic-regression\n",
            "  n_iter_i = _check_optimize_result(\n"
          ]
        },
        {
          "output_type": "execute_result",
          "data": {
            "text/plain": [
              "LogisticRegression()"
            ],
            "text/html": [
              "<style>#sk-container-id-1 {color: black;background-color: white;}#sk-container-id-1 pre{padding: 0;}#sk-container-id-1 div.sk-toggleable {background-color: white;}#sk-container-id-1 label.sk-toggleable__label {cursor: pointer;display: block;width: 100%;margin-bottom: 0;padding: 0.3em;box-sizing: border-box;text-align: center;}#sk-container-id-1 label.sk-toggleable__label-arrow:before {content: \"▸\";float: left;margin-right: 0.25em;color: #696969;}#sk-container-id-1 label.sk-toggleable__label-arrow:hover:before {color: black;}#sk-container-id-1 div.sk-estimator:hover label.sk-toggleable__label-arrow:before {color: black;}#sk-container-id-1 div.sk-toggleable__content {max-height: 0;max-width: 0;overflow: hidden;text-align: left;background-color: #f0f8ff;}#sk-container-id-1 div.sk-toggleable__content pre {margin: 0.2em;color: black;border-radius: 0.25em;background-color: #f0f8ff;}#sk-container-id-1 input.sk-toggleable__control:checked~div.sk-toggleable__content {max-height: 200px;max-width: 100%;overflow: auto;}#sk-container-id-1 input.sk-toggleable__control:checked~label.sk-toggleable__label-arrow:before {content: \"▾\";}#sk-container-id-1 div.sk-estimator input.sk-toggleable__control:checked~label.sk-toggleable__label {background-color: #d4ebff;}#sk-container-id-1 div.sk-label input.sk-toggleable__control:checked~label.sk-toggleable__label {background-color: #d4ebff;}#sk-container-id-1 input.sk-hidden--visually {border: 0;clip: rect(1px 1px 1px 1px);clip: rect(1px, 1px, 1px, 1px);height: 1px;margin: -1px;overflow: hidden;padding: 0;position: absolute;width: 1px;}#sk-container-id-1 div.sk-estimator {font-family: monospace;background-color: #f0f8ff;border: 1px dotted black;border-radius: 0.25em;box-sizing: border-box;margin-bottom: 0.5em;}#sk-container-id-1 div.sk-estimator:hover {background-color: #d4ebff;}#sk-container-id-1 div.sk-parallel-item::after {content: \"\";width: 100%;border-bottom: 1px solid gray;flex-grow: 1;}#sk-container-id-1 div.sk-label:hover label.sk-toggleable__label {background-color: #d4ebff;}#sk-container-id-1 div.sk-serial::before {content: \"\";position: absolute;border-left: 1px solid gray;box-sizing: border-box;top: 0;bottom: 0;left: 50%;z-index: 0;}#sk-container-id-1 div.sk-serial {display: flex;flex-direction: column;align-items: center;background-color: white;padding-right: 0.2em;padding-left: 0.2em;position: relative;}#sk-container-id-1 div.sk-item {position: relative;z-index: 1;}#sk-container-id-1 div.sk-parallel {display: flex;align-items: stretch;justify-content: center;background-color: white;position: relative;}#sk-container-id-1 div.sk-item::before, #sk-container-id-1 div.sk-parallel-item::before {content: \"\";position: absolute;border-left: 1px solid gray;box-sizing: border-box;top: 0;bottom: 0;left: 50%;z-index: -1;}#sk-container-id-1 div.sk-parallel-item {display: flex;flex-direction: column;z-index: 1;position: relative;background-color: white;}#sk-container-id-1 div.sk-parallel-item:first-child::after {align-self: flex-end;width: 50%;}#sk-container-id-1 div.sk-parallel-item:last-child::after {align-self: flex-start;width: 50%;}#sk-container-id-1 div.sk-parallel-item:only-child::after {width: 0;}#sk-container-id-1 div.sk-dashed-wrapped {border: 1px dashed gray;margin: 0 0.4em 0.5em 0.4em;box-sizing: border-box;padding-bottom: 0.4em;background-color: white;}#sk-container-id-1 div.sk-label label {font-family: monospace;font-weight: bold;display: inline-block;line-height: 1.2em;}#sk-container-id-1 div.sk-label-container {text-align: center;}#sk-container-id-1 div.sk-container {/* jupyter's `normalize.less` sets `[hidden] { display: none; }` but bootstrap.min.css set `[hidden] { display: none !important; }` so we also need the `!important` here to be able to override the default hidden behavior on the sphinx rendered scikit-learn.org. See: https://github.com/scikit-learn/scikit-learn/issues/21755 */display: inline-block !important;position: relative;}#sk-container-id-1 div.sk-text-repr-fallback {display: none;}</style><div id=\"sk-container-id-1\" class=\"sk-top-container\"><div class=\"sk-text-repr-fallback\"><pre>LogisticRegression()</pre><b>In a Jupyter environment, please rerun this cell to show the HTML representation or trust the notebook. <br />On GitHub, the HTML representation is unable to render, please try loading this page with nbviewer.org.</b></div><div class=\"sk-container\" hidden><div class=\"sk-item\"><div class=\"sk-estimator sk-toggleable\"><input class=\"sk-toggleable__control sk-hidden--visually\" id=\"sk-estimator-id-1\" type=\"checkbox\" checked><label for=\"sk-estimator-id-1\" class=\"sk-toggleable__label sk-toggleable__label-arrow\">LogisticRegression</label><div class=\"sk-toggleable__content\"><pre>LogisticRegression()</pre></div></div></div></div></div>"
            ]
          },
          "metadata": {},
          "execution_count": 15
        }
      ],
      "source": [
        "LR = LogisticRegression()\n",
        "LR.fit(x_train , y_train)"
      ]
    },
    {
      "cell_type": "code",
      "source": [
        "predict = LR.predict(x_test)\n",
        "print(predict)\n",
        "LR.score(x_test , y_test) "
      ],
      "metadata": {
        "id": "BgWHHMETjcXu",
        "colab": {
          "base_uri": "https://localhost:8080/"
        },
        "outputId": "c4789228-b375-4591-80b3-5eb9c5ff4077"
      },
      "id": "BgWHHMETjcXu",
      "execution_count": null,
      "outputs": [
        {
          "output_type": "stream",
          "name": "stdout",
          "text": [
            "[1 0 1 ... 1 1 0]\n"
          ]
        },
        {
          "output_type": "execute_result",
          "data": {
            "text/plain": [
              "0.9966146993318485"
            ]
          },
          "metadata": {},
          "execution_count": 25
        }
      ]
    },
    {
      "cell_type": "code",
      "source": [
        "LR.score(x_test , y_test)\n",
        "print(classification_report(y_test ,predict))"
      ],
      "metadata": {
        "colab": {
          "base_uri": "https://localhost:8080/"
        },
        "id": "d2-03RSpt6qN",
        "outputId": "bca70ea9-99ba-4e70-e682-2ad2b3af495b"
      },
      "id": "d2-03RSpt6qN",
      "execution_count": null,
      "outputs": [
        {
          "output_type": "stream",
          "name": "stdout",
          "text": [
            "              precision    recall  f1-score   support\n",
            "\n",
            "           0       1.00      1.00      1.00      5748\n",
            "           1       1.00      1.00      1.00      5477\n",
            "\n",
            "    accuracy                           1.00     11225\n",
            "   macro avg       1.00      1.00      1.00     11225\n",
            "weighted avg       1.00      1.00      1.00     11225\n",
            "\n"
          ]
        }
      ]
    },
    {
      "cell_type": "code",
      "execution_count": null,
      "id": "10695133-29fa-48dd-bcab-72ebe1c4047e",
      "metadata": {
        "id": "10695133-29fa-48dd-bcab-72ebe1c4047e"
      },
      "outputs": [],
      "source": [
        "# Display the Confusion matrix of Results from your classification algorithm"
      ]
    },
    {
      "cell_type": "code",
      "execution_count": null,
      "id": "25016dd6-1929-4222-9d5b-a21fc6817e7a",
      "metadata": {
        "id": "25016dd6-1929-4222-9d5b-a21fc6817e7a"
      },
      "outputs": [],
      "source": []
    }
  ],
  "metadata": {
    "kernelspec": {
      "display_name": "Python 3 (Intel® oneAPI 2023.1)",
      "language": "python",
      "name": "c009-intel_distribution_of_python_3_oneapi-beta05-python"
    },
    "language_info": {
      "codemirror_mode": {
        "name": "ipython",
        "version": 3
      },
      "file_extension": ".py",
      "mimetype": "text/x-python",
      "name": "python",
      "nbconvert_exporter": "python",
      "pygments_lexer": "ipython3",
      "version": "3.9.16"
    },
    "colab": {
      "provenance": []
    }
  },
  "nbformat": 4,
  "nbformat_minor": 5
}